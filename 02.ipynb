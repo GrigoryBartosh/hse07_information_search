{
 "cells": [
  {
   "cell_type": "code",
   "execution_count": 1,
   "metadata": {},
   "outputs": [],
   "source": [
    "import os\n",
    "\n",
    "from lxml import etree\n",
    "import base64\n",
    "import xmltodict\n",
    "from bs4 import BeautifulSoup\n",
    "import re\n",
    "from urllib.parse import urljoin\n",
    "from nltk.tokenize import RegexpTokenizer\n",
    "import pymorphy2\n",
    "\n",
    "import json\n",
    "from elasticsearch import Elasticsearch\n",
    "from elasticsearch.helpers import parallel_bulk\n",
    "import time\n",
    "\n",
    "import numpy as np\n",
    "import networkx as nx\n",
    "\n",
    "from tqdm import tqdm_notebook as tqdm\n",
    "import matplotlib.pyplot as plt\n",
    "\n",
    "BYWEB_PATH = os.path.join('data', 'byweb_for_course')\n",
    "RELEVANT_TABLE = os.path.join('data', 'relevant_table_2009.xml')\n",
    "QUERY_TABLE = os.path.join('data', 'web2008_adhoc.xml')"
   ]
  },
  {
   "cell_type": "code",
   "execution_count": 2,
   "metadata": {},
   "outputs": [],
   "source": [
    "class Document:\n",
    "    def __init__(self, raw):\n",
    "        self.raw = raw"
   ]
  },
  {
   "cell_type": "code",
   "execution_count": 3,
   "metadata": {},
   "outputs": [],
   "source": [
    "def pipeline(docs, foo_list):\n",
    "    for foo in foo_list:\n",
    "        def generator(docs, foo):\n",
    "            for doc in docs:\n",
    "                yield foo(doc)\n",
    "        docs = generator(docs, foo)\n",
    "    return docs\n",
    "\n",
    "def generate_raw_docs(db_path):\n",
    "    for file_name in tqdm(os.listdir(db_path)):\n",
    "        file_path = os.path.join(db_path, file_name)\n",
    "        root = etree.parse(file_path).getroot()\n",
    "        for raw in root.getchildren():\n",
    "            yield Document(raw)"
   ]
  },
  {
   "cell_type": "code",
   "execution_count": 4,
   "metadata": {},
   "outputs": [],
   "source": [
    "def decoded_doc(doc):\n",
    "    doc.html, doc.url, doc.doc_id = \\\n",
    "        list(map(lambda x: x.text, doc.raw))\n",
    "    doc.url = base64.urlsafe_b64decode(doc.url).decode('cp1251')\n",
    "    doc.html = base64.b64decode(doc.html).decode('cp1251')\n",
    "    return doc"
   ]
  },
  {
   "cell_type": "code",
   "execution_count": 5,
   "metadata": {},
   "outputs": [],
   "source": [
    "def build_text(doc):\n",
    "    soup = BeautifulSoup(doc.html, 'lxml')\n",
    "    \n",
    "    for script in soup(['script', 'style']):\n",
    "        script.decompose()\n",
    "    doc.text = soup.get_text()\n",
    "    doc.text = re.sub('(<!--.*?-->)', '', doc.text, flags=re.DOTALL)\n",
    "    \n",
    "    doc.title = soup.title.string if soup.title and soup.title.string else ''\n",
    "    \n",
    "    return doc"
   ]
  },
  {
   "cell_type": "code",
   "execution_count": 6,
   "metadata": {},
   "outputs": [],
   "source": [
    "def get_tokenize_foo():\n",
    "    tokenizer = RegexpTokenizer(r'\\w+')\n",
    "    def tokenize(doc):\n",
    "        doc.title_tokens = tokenizer.tokenize(doc.title)\n",
    "        doc.tokens = tokenizer.tokenize(doc.text)\n",
    "        return doc\n",
    "    return tokenize"
   ]
  },
  {
   "cell_type": "code",
   "execution_count": 7,
   "metadata": {},
   "outputs": [],
   "source": [
    "def get_lemmatization_foo():\n",
    "    analyzer = pymorphy2.MorphAnalyzer()\n",
    "    def lemmatization(doc):\n",
    "        doc.lemmed_tokens = list(map(lambda x: x.lower(), doc.tokens))\n",
    "        doc.lemmed_tokens = list(map(lambda x: analyzer.parse(x)[0].normal_form, doc.lemmed_tokens))\n",
    "        \n",
    "        doc.title_lemmed_tokens = list(map(lambda x: x.lower(), doc.title_tokens))\n",
    "        doc.title_lemmed_tokens = list(map(lambda x: analyzer.parse(x)[0].normal_form, doc.title_lemmed_tokens))\n",
    "        \n",
    "        return doc\n",
    "    return lemmatization"
   ]
  },
  {
   "cell_type": "code",
   "execution_count": 8,
   "metadata": {},
   "outputs": [],
   "source": [
    "def find_links(doc):\n",
    "    soup = BeautifulSoup(doc.html)\n",
    "    for script in soup([\"script\", \"style\"]):\n",
    "        script.decompose()\n",
    "    \n",
    "    doc.links = set()\n",
    "    for link in soup.findAll('a'):\n",
    "        link_url = link.get('href')\n",
    "        if not link_url or link_url[0] == '#':\n",
    "            continue\n",
    "        try:\n",
    "            link_url = urljoin(doc.url, link_url)\n",
    "            doc.links.add(link_url)\n",
    "        except Exception:\n",
    "            pass\n",
    "        \n",
    "    return doc"
   ]
  },
  {
   "cell_type": "code",
   "execution_count": 9,
   "metadata": {},
   "outputs": [],
   "source": [
    "es = Elasticsearch([{\n",
    "    'host': 'localhost',\n",
    "    'port': 9200,\n",
    "    'timeout': 360,\n",
    "    'maxsize': 25\n",
    "}])"
   ]
  },
  {
   "cell_type": "code",
   "execution_count": 10,
   "metadata": {},
   "outputs": [],
   "source": [
    "def recreate_index(body):\n",
    "    try:\n",
    "        es.indices.delete(index='myandex')\n",
    "    except:\n",
    "        pass\n",
    "        \n",
    "    es.indices.create(index='myandex', body=body)"
   ]
  },
  {
   "cell_type": "code",
   "execution_count": 11,
   "metadata": {},
   "outputs": [],
   "source": [
    "settings = {\n",
    "    \"settings\": {\n",
    "        \"analysis\": {\n",
    "            'char_filter': {\n",
    "                'my_yont': {\n",
    "                    'type': 'mapping',\n",
    "                    'mappings': [\n",
    "                        'ё => е',\n",
    "                        'Ё => Е'\n",
    "                    ]\n",
    "                }\n",
    "            },\n",
    "            'tokenizer': {\n",
    "                'my_word_longer_2': {\n",
    "                    'type': 'pattern',\n",
    "                    'pattern': '[a-zA-Z_0-9\\u0400-\\u04FF]{2,}',\n",
    "                    'group': 0\n",
    "                }\n",
    "            },\n",
    "            'filter': {\n",
    "                \"my_ru_stop\": {\n",
    "                    \"type\": \"stop\",\n",
    "                    \"stopwords\": \"_russian_\"\n",
    "                },\n",
    "                \"my_en_stop\": {\n",
    "                    \"type\": \"stop\",\n",
    "                    \"stopwords\": \"_english_\"\n",
    "                },\n",
    "                'my_en_snow': {\n",
    "                    'type': 'snowball',\n",
    "                    'language': 'english'\n",
    "                },\n",
    "                'my_ru_snow': {\n",
    "                    'type': 'snowball',\n",
    "                    'language': 'russian'\n",
    "                }\n",
    "            },\n",
    "            \"analyzer\": {\n",
    "                \"my_analyzer\": {\n",
    "                    \"type\": \"custom\", \n",
    "                    \"tokenizer\": \"my_word_longer_2\",\n",
    "                    \"char_filter\": [\n",
    "                        \"my_yont\"\n",
    "                    ],\n",
    "                    \"filter\": [\n",
    "                        \"lowercase\",\n",
    "                        \"asciifolding\",\n",
    "                        \"my_ru_stop\",\n",
    "                        \"my_en_stop\"\n",
    "                    ]\n",
    "                },\n",
    "                \"my_snow_analyzer\": {\n",
    "                    \"type\": \"custom\", \n",
    "                    \"tokenizer\": \"my_word_longer_2\",\n",
    "                    \"char_filter\": [\n",
    "                        \"my_yont\"\n",
    "                    ],\n",
    "                    \"filter\": [\n",
    "                        \"lowercase\",\n",
    "                        \"asciifolding\",\n",
    "                        \"my_ru_stop\",\n",
    "                        \"my_en_stop\",\n",
    "                        \"my_ru_snow\",\n",
    "                        \"my_en_snow\"\n",
    "                    ]\n",
    "                },\n",
    "                \"my_html_analyzer\": {\n",
    "                    \"type\": \"custom\", \n",
    "                    \"tokenizer\": \"my_word_longer_2\",\n",
    "                    \"char_filter\": [\n",
    "                        \"html_strip\",\n",
    "                        \"my_yont\"\n",
    "                    ],\n",
    "                    \"filter\": [\n",
    "                        \"lowercase\",\n",
    "                        \"asciifolding\",\n",
    "                        \"my_ru_stop\",\n",
    "                        \"my_en_stop\"\n",
    "                    ]\n",
    "                },\n",
    "                \"my_html_snow_analyzer\": {\n",
    "                    \"type\": \"custom\", \n",
    "                    \"tokenizer\": \"my_word_longer_2\",\n",
    "                    \"char_filter\": [\n",
    "                        \"html_strip\",\n",
    "                        \"my_yont\"\n",
    "                    ],\n",
    "                    \"filter\": [\n",
    "                        \"lowercase\",\n",
    "                        \"asciifolding\",\n",
    "                        \"my_ru_stop\",\n",
    "                        \"my_en_stop\",\n",
    "                        \"my_ru_snow\",\n",
    "                        \"my_en_snow\"\n",
    "                    ]\n",
    "                }\n",
    "            }\n",
    "        }\n",
    "    },\n",
    "    'mappings': {\n",
    "        'properties': {\n",
    "            'src_text': {\n",
    "                'type': 'text',\n",
    "                'analyzer': 'my_html_analyzer'\n",
    "            },\n",
    "            'snow_text': {\n",
    "                'type': 'text',\n",
    "                'analyzer': 'my_html_snow_analyzer'\n",
    "            },\n",
    "            'lem_text': {\n",
    "                'type': 'text',\n",
    "                'analyzer': 'my_analyzer'\n",
    "            },\n",
    "            'src_title': {\n",
    "                'type': 'text',\n",
    "                'analyzer': 'my_analyzer'\n",
    "            },\n",
    "            'snow_title': {\n",
    "                'type': 'text',\n",
    "                'analyzer': 'my_snow_analyzer'\n",
    "            },\n",
    "            'lem_title': {\n",
    "                'type': 'text',\n",
    "                'analyzer': 'my_analyzer'\n",
    "            },\n",
    "            'pagerank': {\n",
    "                'type': 'rank_feature'\n",
    "            }\n",
    "        }\n",
    "    }\n",
    "}\n",
    "\n",
    "recreate_index(settings)"
   ]
  },
  {
   "cell_type": "code",
   "execution_count": 12,
   "metadata": {
    "scrolled": true
   },
   "outputs": [
    {
     "data": {
      "application/vnd.jupyter.widget-view+json": {
       "model_id": "b21e283de13a4498b32ef20456f8e16e",
       "version_major": 2,
       "version_minor": 0
      },
      "text/plain": [
       "HBox(children=(IntProgress(value=0, max=10), HTML(value='')))"
      ]
     },
     "metadata": {},
     "output_type": "display_data"
    },
    {
     "name": "stdout",
     "output_type": "stream",
     "text": [
      "\n"
     ]
    }
   ],
   "source": [
    "docs_generator = pipeline(generate_raw_docs(BYWEB_PATH),\n",
    "                          [decoded_doc,\n",
    "                           find_links])\n",
    "\n",
    "url_to_doc_id = {}\n",
    "graph_links = {}\n",
    "for doc in docs_generator:\n",
    "    url_to_doc_id[doc.url] = doc.doc_id\n",
    "    graph_links[doc.doc_id] = doc.links"
   ]
  },
  {
   "cell_type": "code",
   "execution_count": 13,
   "metadata": {},
   "outputs": [],
   "source": [
    "docs = {}\n",
    "for doc_id in graph_links:\n",
    "    docs[doc_id] = set([url_to_doc_id[url] for url in graph_links[doc_id] if url in url_to_doc_id])"
   ]
  },
  {
   "cell_type": "code",
   "execution_count": 14,
   "metadata": {},
   "outputs": [],
   "source": [
    "G = nx.DiGraph()\n",
    "G.add_nodes_from(docs.keys())\n",
    "for doc_a, links in docs.items():\n",
    "    for doc_b in links:\n",
    "        G.add_edge(doc_a, doc_b)\n",
    "\n",
    "page_rank = nx.pagerank(G, alpha=0.85)"
   ]
  },
  {
   "cell_type": "code",
   "execution_count": 15,
   "metadata": {},
   "outputs": [
    {
     "data": {
      "application/vnd.jupyter.widget-view+json": {
       "model_id": "56260b3d259c4ca4956e9cd222f51f5b",
       "version_major": 2,
       "version_minor": 0
      },
      "text/plain": [
       "HBox(children=(IntProgress(value=0, max=10), HTML(value='')))"
      ]
     },
     "metadata": {},
     "output_type": "display_data"
    },
    {
     "name": "stdout",
     "output_type": "stream",
     "text": [
      "\n"
     ]
    },
    {
     "ename": "TransportError",
     "evalue": "TransportError(429, 'circuit_breaking_exception', '[parent] Data too large, data for [<http_request>] would be [1014977250/967.9mb], which is larger than the limit of [986061209/940.3mb], real usage: [807603544/770.1mb], new bytes reserved: [207373706/197.7mb], usages [request=0/0b, fielddata=0/0b, in_flight_requests=207373706/197.7mb, accounting=49484/48.3kb]')",
     "output_type": "error",
     "traceback": [
      "\u001b[0;31m---------------------------------------------------------------------------\u001b[0m",
      "\u001b[0;31mTransportError\u001b[0m                            Traceback (most recent call last)",
      "\u001b[0;32m<ipython-input-15-953516c7f82a>\u001b[0m in \u001b[0;36m<module>\u001b[0;34m\u001b[0m\n\u001b[1;32m     21\u001b[0m         }\n\u001b[1;32m     22\u001b[0m \u001b[0;34m\u001b[0m\u001b[0m\n\u001b[0;32m---> 23\u001b[0;31m \u001b[0;32mfor\u001b[0m \u001b[0mok\u001b[0m\u001b[0;34m,\u001b[0m \u001b[0mresult\u001b[0m \u001b[0;32min\u001b[0m \u001b[0mparallel_bulk\u001b[0m\u001b[0;34m(\u001b[0m\u001b[0mes\u001b[0m\u001b[0;34m,\u001b[0m \u001b[0mes_actions_generator\u001b[0m\u001b[0;34m(\u001b[0m\u001b[0;34m)\u001b[0m\u001b[0;34m,\u001b[0m \u001b[0mqueue_size\u001b[0m\u001b[0;34m=\u001b[0m\u001b[0;36m4\u001b[0m\u001b[0;34m,\u001b[0m \u001b[0mthread_count\u001b[0m\u001b[0;34m=\u001b[0m\u001b[0;36m4\u001b[0m\u001b[0;34m,\u001b[0m \u001b[0mchunk_size\u001b[0m\u001b[0;34m=\u001b[0m\u001b[0;36m1000\u001b[0m\u001b[0;34m)\u001b[0m\u001b[0;34m:\u001b[0m\u001b[0;34m\u001b[0m\u001b[0;34m\u001b[0m\u001b[0m\n\u001b[0m\u001b[1;32m     24\u001b[0m     \u001b[0;32mif\u001b[0m \u001b[0;32mnot\u001b[0m \u001b[0mok\u001b[0m\u001b[0;34m:\u001b[0m\u001b[0;34m\u001b[0m\u001b[0;34m\u001b[0m\u001b[0m\n\u001b[1;32m     25\u001b[0m         \u001b[0mprint\u001b[0m\u001b[0;34m(\u001b[0m\u001b[0mresult\u001b[0m\u001b[0;34m)\u001b[0m\u001b[0;34m\u001b[0m\u001b[0;34m\u001b[0m\u001b[0m\n",
      "\u001b[0;32m~/venv/lib/python3.6/site-packages/elasticsearch/helpers/actions.py\u001b[0m in \u001b[0;36mparallel_bulk\u001b[0;34m(client, actions, thread_count, chunk_size, max_chunk_bytes, queue_size, expand_action_callback, *args, **kwargs)\u001b[0m\n\u001b[1;32m    363\u001b[0m             ),\n\u001b[1;32m    364\u001b[0m             _chunk_actions(\n\u001b[0;32m--> 365\u001b[0;31m                 \u001b[0mactions\u001b[0m\u001b[0;34m,\u001b[0m \u001b[0mchunk_size\u001b[0m\u001b[0;34m,\u001b[0m \u001b[0mmax_chunk_bytes\u001b[0m\u001b[0;34m,\u001b[0m \u001b[0mclient\u001b[0m\u001b[0;34m.\u001b[0m\u001b[0mtransport\u001b[0m\u001b[0;34m.\u001b[0m\u001b[0mserializer\u001b[0m\u001b[0;34m\u001b[0m\u001b[0;34m\u001b[0m\u001b[0m\n\u001b[0m\u001b[1;32m    366\u001b[0m             ),\n\u001b[1;32m    367\u001b[0m         ):\n",
      "\u001b[0;32m/usr/lib/python3.6/multiprocessing/pool.py\u001b[0m in \u001b[0;36mnext\u001b[0;34m(self, timeout)\u001b[0m\n\u001b[1;32m    733\u001b[0m         \u001b[0;32mif\u001b[0m \u001b[0msuccess\u001b[0m\u001b[0;34m:\u001b[0m\u001b[0;34m\u001b[0m\u001b[0;34m\u001b[0m\u001b[0m\n\u001b[1;32m    734\u001b[0m             \u001b[0;32mreturn\u001b[0m \u001b[0mvalue\u001b[0m\u001b[0;34m\u001b[0m\u001b[0;34m\u001b[0m\u001b[0m\n\u001b[0;32m--> 735\u001b[0;31m         \u001b[0;32mraise\u001b[0m \u001b[0mvalue\u001b[0m\u001b[0;34m\u001b[0m\u001b[0;34m\u001b[0m\u001b[0m\n\u001b[0m\u001b[1;32m    736\u001b[0m \u001b[0;34m\u001b[0m\u001b[0m\n\u001b[1;32m    737\u001b[0m     \u001b[0m__next__\u001b[0m \u001b[0;34m=\u001b[0m \u001b[0mnext\u001b[0m                    \u001b[0;31m# XXX\u001b[0m\u001b[0;34m\u001b[0m\u001b[0;34m\u001b[0m\u001b[0m\n",
      "\u001b[0;32m/usr/lib/python3.6/multiprocessing/pool.py\u001b[0m in \u001b[0;36mworker\u001b[0;34m(inqueue, outqueue, initializer, initargs, maxtasks, wrap_exception)\u001b[0m\n\u001b[1;32m    117\u001b[0m         \u001b[0mjob\u001b[0m\u001b[0;34m,\u001b[0m \u001b[0mi\u001b[0m\u001b[0;34m,\u001b[0m \u001b[0mfunc\u001b[0m\u001b[0;34m,\u001b[0m \u001b[0margs\u001b[0m\u001b[0;34m,\u001b[0m \u001b[0mkwds\u001b[0m \u001b[0;34m=\u001b[0m \u001b[0mtask\u001b[0m\u001b[0;34m\u001b[0m\u001b[0;34m\u001b[0m\u001b[0m\n\u001b[1;32m    118\u001b[0m         \u001b[0;32mtry\u001b[0m\u001b[0;34m:\u001b[0m\u001b[0;34m\u001b[0m\u001b[0;34m\u001b[0m\u001b[0m\n\u001b[0;32m--> 119\u001b[0;31m             \u001b[0mresult\u001b[0m \u001b[0;34m=\u001b[0m \u001b[0;34m(\u001b[0m\u001b[0;32mTrue\u001b[0m\u001b[0;34m,\u001b[0m \u001b[0mfunc\u001b[0m\u001b[0;34m(\u001b[0m\u001b[0;34m*\u001b[0m\u001b[0margs\u001b[0m\u001b[0;34m,\u001b[0m \u001b[0;34m**\u001b[0m\u001b[0mkwds\u001b[0m\u001b[0;34m)\u001b[0m\u001b[0;34m)\u001b[0m\u001b[0;34m\u001b[0m\u001b[0;34m\u001b[0m\u001b[0m\n\u001b[0m\u001b[1;32m    120\u001b[0m         \u001b[0;32mexcept\u001b[0m \u001b[0mException\u001b[0m \u001b[0;32mas\u001b[0m \u001b[0me\u001b[0m\u001b[0;34m:\u001b[0m\u001b[0;34m\u001b[0m\u001b[0;34m\u001b[0m\u001b[0m\n\u001b[1;32m    121\u001b[0m             \u001b[0;32mif\u001b[0m \u001b[0mwrap_exception\u001b[0m \u001b[0;32mand\u001b[0m \u001b[0mfunc\u001b[0m \u001b[0;32mis\u001b[0m \u001b[0;32mnot\u001b[0m \u001b[0m_helper_reraises_exception\u001b[0m\u001b[0;34m:\u001b[0m\u001b[0;34m\u001b[0m\u001b[0;34m\u001b[0m\u001b[0m\n",
      "\u001b[0;32m~/venv/lib/python3.6/site-packages/elasticsearch/helpers/actions.py\u001b[0m in \u001b[0;36m<lambda>\u001b[0;34m(bulk_chunk)\u001b[0m\n\u001b[1;32m    359\u001b[0m             lambda bulk_chunk: list(\n\u001b[1;32m    360\u001b[0m                 _process_bulk_chunk(\n\u001b[0;32m--> 361\u001b[0;31m                     \u001b[0mclient\u001b[0m\u001b[0;34m,\u001b[0m \u001b[0mbulk_chunk\u001b[0m\u001b[0;34m[\u001b[0m\u001b[0;36m1\u001b[0m\u001b[0;34m]\u001b[0m\u001b[0;34m,\u001b[0m \u001b[0mbulk_chunk\u001b[0m\u001b[0;34m[\u001b[0m\u001b[0;36m0\u001b[0m\u001b[0;34m]\u001b[0m\u001b[0;34m,\u001b[0m \u001b[0;34m*\u001b[0m\u001b[0margs\u001b[0m\u001b[0;34m,\u001b[0m \u001b[0;34m**\u001b[0m\u001b[0mkwargs\u001b[0m\u001b[0;34m\u001b[0m\u001b[0;34m\u001b[0m\u001b[0m\n\u001b[0m\u001b[1;32m    362\u001b[0m                 )\n\u001b[1;32m    363\u001b[0m             ),\n",
      "\u001b[0;32m~/venv/lib/python3.6/site-packages/elasticsearch/helpers/actions.py\u001b[0m in \u001b[0;36m_process_bulk_chunk\u001b[0;34m(client, bulk_actions, bulk_data, raise_on_exception, raise_on_error, *args, **kwargs)\u001b[0m\n\u001b[1;32m    114\u001b[0m         \u001b[0;31m# default behavior - just propagate exception\u001b[0m\u001b[0;34m\u001b[0m\u001b[0;34m\u001b[0m\u001b[0;34m\u001b[0m\u001b[0m\n\u001b[1;32m    115\u001b[0m         \u001b[0;32mif\u001b[0m \u001b[0mraise_on_exception\u001b[0m\u001b[0;34m:\u001b[0m\u001b[0;34m\u001b[0m\u001b[0;34m\u001b[0m\u001b[0m\n\u001b[0;32m--> 116\u001b[0;31m             \u001b[0;32mraise\u001b[0m \u001b[0me\u001b[0m\u001b[0;34m\u001b[0m\u001b[0;34m\u001b[0m\u001b[0m\n\u001b[0m\u001b[1;32m    117\u001b[0m \u001b[0;34m\u001b[0m\u001b[0m\n\u001b[1;32m    118\u001b[0m         \u001b[0;31m# if we are not propagating, mark all actions in current chunk as failed\u001b[0m\u001b[0;34m\u001b[0m\u001b[0;34m\u001b[0m\u001b[0;34m\u001b[0m\u001b[0m\n",
      "\u001b[0;32m~/venv/lib/python3.6/site-packages/elasticsearch/helpers/actions.py\u001b[0m in \u001b[0;36m_process_bulk_chunk\u001b[0;34m(client, bulk_actions, bulk_data, raise_on_exception, raise_on_error, *args, **kwargs)\u001b[0m\n\u001b[1;32m    110\u001b[0m     \u001b[0;32mtry\u001b[0m\u001b[0;34m:\u001b[0m\u001b[0;34m\u001b[0m\u001b[0;34m\u001b[0m\u001b[0m\n\u001b[1;32m    111\u001b[0m         \u001b[0;31m# send the actual request\u001b[0m\u001b[0;34m\u001b[0m\u001b[0;34m\u001b[0m\u001b[0;34m\u001b[0m\u001b[0m\n\u001b[0;32m--> 112\u001b[0;31m         \u001b[0mresp\u001b[0m \u001b[0;34m=\u001b[0m \u001b[0mclient\u001b[0m\u001b[0;34m.\u001b[0m\u001b[0mbulk\u001b[0m\u001b[0;34m(\u001b[0m\u001b[0;34m\"\\n\"\u001b[0m\u001b[0;34m.\u001b[0m\u001b[0mjoin\u001b[0m\u001b[0;34m(\u001b[0m\u001b[0mbulk_actions\u001b[0m\u001b[0;34m)\u001b[0m \u001b[0;34m+\u001b[0m \u001b[0;34m\"\\n\"\u001b[0m\u001b[0;34m,\u001b[0m \u001b[0;34m*\u001b[0m\u001b[0margs\u001b[0m\u001b[0;34m,\u001b[0m \u001b[0;34m**\u001b[0m\u001b[0mkwargs\u001b[0m\u001b[0;34m)\u001b[0m\u001b[0;34m\u001b[0m\u001b[0;34m\u001b[0m\u001b[0m\n\u001b[0m\u001b[1;32m    113\u001b[0m     \u001b[0;32mexcept\u001b[0m \u001b[0mTransportError\u001b[0m \u001b[0;32mas\u001b[0m \u001b[0me\u001b[0m\u001b[0;34m:\u001b[0m\u001b[0;34m\u001b[0m\u001b[0;34m\u001b[0m\u001b[0m\n\u001b[1;32m    114\u001b[0m         \u001b[0;31m# default behavior - just propagate exception\u001b[0m\u001b[0;34m\u001b[0m\u001b[0;34m\u001b[0m\u001b[0;34m\u001b[0m\u001b[0m\n",
      "\u001b[0;32m~/venv/lib/python3.6/site-packages/elasticsearch/client/utils.py\u001b[0m in \u001b[0;36m_wrapped\u001b[0;34m(*args, **kwargs)\u001b[0m\n\u001b[1;32m     82\u001b[0m                 \u001b[0;32mif\u001b[0m \u001b[0mp\u001b[0m \u001b[0;32min\u001b[0m \u001b[0mkwargs\u001b[0m\u001b[0;34m:\u001b[0m\u001b[0;34m\u001b[0m\u001b[0;34m\u001b[0m\u001b[0m\n\u001b[1;32m     83\u001b[0m                     \u001b[0mparams\u001b[0m\u001b[0;34m[\u001b[0m\u001b[0mp\u001b[0m\u001b[0;34m]\u001b[0m \u001b[0;34m=\u001b[0m \u001b[0mkwargs\u001b[0m\u001b[0;34m.\u001b[0m\u001b[0mpop\u001b[0m\u001b[0;34m(\u001b[0m\u001b[0mp\u001b[0m\u001b[0;34m)\u001b[0m\u001b[0;34m\u001b[0m\u001b[0;34m\u001b[0m\u001b[0m\n\u001b[0;32m---> 84\u001b[0;31m             \u001b[0;32mreturn\u001b[0m \u001b[0mfunc\u001b[0m\u001b[0;34m(\u001b[0m\u001b[0;34m*\u001b[0m\u001b[0margs\u001b[0m\u001b[0;34m,\u001b[0m \u001b[0mparams\u001b[0m\u001b[0;34m=\u001b[0m\u001b[0mparams\u001b[0m\u001b[0;34m,\u001b[0m \u001b[0;34m**\u001b[0m\u001b[0mkwargs\u001b[0m\u001b[0;34m)\u001b[0m\u001b[0;34m\u001b[0m\u001b[0;34m\u001b[0m\u001b[0m\n\u001b[0m\u001b[1;32m     85\u001b[0m \u001b[0;34m\u001b[0m\u001b[0m\n\u001b[1;32m     86\u001b[0m         \u001b[0;32mreturn\u001b[0m \u001b[0m_wrapped\u001b[0m\u001b[0;34m\u001b[0m\u001b[0;34m\u001b[0m\u001b[0m\n",
      "\u001b[0;32m~/venv/lib/python3.6/site-packages/elasticsearch/client/__init__.py\u001b[0m in \u001b[0;36mbulk\u001b[0;34m(self, body, doc_type, index, params)\u001b[0m\n\u001b[1;32m   1503\u001b[0m             \u001b[0mparams\u001b[0m\u001b[0;34m=\u001b[0m\u001b[0mparams\u001b[0m\u001b[0;34m,\u001b[0m\u001b[0;34m\u001b[0m\u001b[0;34m\u001b[0m\u001b[0m\n\u001b[1;32m   1504\u001b[0m             \u001b[0mbody\u001b[0m\u001b[0;34m=\u001b[0m\u001b[0mself\u001b[0m\u001b[0;34m.\u001b[0m\u001b[0m_bulk_body\u001b[0m\u001b[0;34m(\u001b[0m\u001b[0mbody\u001b[0m\u001b[0;34m)\u001b[0m\u001b[0;34m,\u001b[0m\u001b[0;34m\u001b[0m\u001b[0;34m\u001b[0m\u001b[0m\n\u001b[0;32m-> 1505\u001b[0;31m             \u001b[0mheaders\u001b[0m\u001b[0;34m=\u001b[0m\u001b[0;34m{\u001b[0m\u001b[0;34m\"content-type\"\u001b[0m\u001b[0;34m:\u001b[0m \u001b[0;34m\"application/x-ndjson\"\u001b[0m\u001b[0;34m}\u001b[0m\u001b[0;34m,\u001b[0m\u001b[0;34m\u001b[0m\u001b[0;34m\u001b[0m\u001b[0m\n\u001b[0m\u001b[1;32m   1506\u001b[0m         )\n\u001b[1;32m   1507\u001b[0m \u001b[0;34m\u001b[0m\u001b[0m\n",
      "\u001b[0;32m~/venv/lib/python3.6/site-packages/elasticsearch/transport.py\u001b[0m in \u001b[0;36mperform_request\u001b[0;34m(self, method, url, headers, params, body)\u001b[0m\n\u001b[1;32m    348\u001b[0m                     \u001b[0mheaders\u001b[0m\u001b[0;34m=\u001b[0m\u001b[0mheaders\u001b[0m\u001b[0;34m,\u001b[0m\u001b[0;34m\u001b[0m\u001b[0;34m\u001b[0m\u001b[0m\n\u001b[1;32m    349\u001b[0m                     \u001b[0mignore\u001b[0m\u001b[0;34m=\u001b[0m\u001b[0mignore\u001b[0m\u001b[0;34m,\u001b[0m\u001b[0;34m\u001b[0m\u001b[0;34m\u001b[0m\u001b[0m\n\u001b[0;32m--> 350\u001b[0;31m                     \u001b[0mtimeout\u001b[0m\u001b[0;34m=\u001b[0m\u001b[0mtimeout\u001b[0m\u001b[0;34m,\u001b[0m\u001b[0;34m\u001b[0m\u001b[0;34m\u001b[0m\u001b[0m\n\u001b[0m\u001b[1;32m    351\u001b[0m                 )\n\u001b[1;32m    352\u001b[0m \u001b[0;34m\u001b[0m\u001b[0m\n",
      "\u001b[0;32m~/venv/lib/python3.6/site-packages/elasticsearch/connection/http_urllib3.py\u001b[0m in \u001b[0;36mperform_request\u001b[0;34m(self, method, url, params, body, timeout, ignore, headers)\u001b[0m\n\u001b[1;32m    250\u001b[0m                 \u001b[0mmethod\u001b[0m\u001b[0;34m,\u001b[0m \u001b[0mfull_url\u001b[0m\u001b[0;34m,\u001b[0m \u001b[0murl\u001b[0m\u001b[0;34m,\u001b[0m \u001b[0mbody\u001b[0m\u001b[0;34m,\u001b[0m \u001b[0mduration\u001b[0m\u001b[0;34m,\u001b[0m \u001b[0mresponse\u001b[0m\u001b[0;34m.\u001b[0m\u001b[0mstatus\u001b[0m\u001b[0;34m,\u001b[0m \u001b[0mraw_data\u001b[0m\u001b[0;34m\u001b[0m\u001b[0;34m\u001b[0m\u001b[0m\n\u001b[1;32m    251\u001b[0m             )\n\u001b[0;32m--> 252\u001b[0;31m             \u001b[0mself\u001b[0m\u001b[0;34m.\u001b[0m\u001b[0m_raise_error\u001b[0m\u001b[0;34m(\u001b[0m\u001b[0mresponse\u001b[0m\u001b[0;34m.\u001b[0m\u001b[0mstatus\u001b[0m\u001b[0;34m,\u001b[0m \u001b[0mraw_data\u001b[0m\u001b[0;34m)\u001b[0m\u001b[0;34m\u001b[0m\u001b[0;34m\u001b[0m\u001b[0m\n\u001b[0m\u001b[1;32m    253\u001b[0m \u001b[0;34m\u001b[0m\u001b[0m\n\u001b[1;32m    254\u001b[0m         self.log_request_success(\n",
      "\u001b[0;32m~/venv/lib/python3.6/site-packages/elasticsearch/connection/base.py\u001b[0m in \u001b[0;36m_raise_error\u001b[0;34m(self, status_code, raw_data)\u001b[0m\n\u001b[1;32m    179\u001b[0m \u001b[0;34m\u001b[0m\u001b[0m\n\u001b[1;32m    180\u001b[0m         raise HTTP_EXCEPTIONS.get(status_code, TransportError)(\n\u001b[0;32m--> 181\u001b[0;31m             \u001b[0mstatus_code\u001b[0m\u001b[0;34m,\u001b[0m \u001b[0merror_message\u001b[0m\u001b[0;34m,\u001b[0m \u001b[0madditional_info\u001b[0m\u001b[0;34m\u001b[0m\u001b[0;34m\u001b[0m\u001b[0m\n\u001b[0m\u001b[1;32m    182\u001b[0m         )\n\u001b[1;32m    183\u001b[0m \u001b[0;34m\u001b[0m\u001b[0m\n",
      "\u001b[0;31mTransportError\u001b[0m: TransportError(429, 'circuit_breaking_exception', '[parent] Data too large, data for [<http_request>] would be [1014977250/967.9mb], which is larger than the limit of [986061209/940.3mb], real usage: [807603544/770.1mb], new bytes reserved: [207373706/197.7mb], usages [request=0/0b, fielddata=0/0b, in_flight_requests=207373706/197.7mb, accounting=49484/48.3kb]')"
     ]
    }
   ],
   "source": [
    "docs_generator = pipeline(generate_raw_docs(BYWEB_PATH),\n",
    "                          [decoded_doc, \n",
    "                           build_text, \n",
    "                           get_tokenize_foo(), \n",
    "                           get_lemmatization_foo()])\n",
    "\n",
    "def es_actions_generator():\n",
    "    for doc in docs_generator:        \n",
    "        yield {\n",
    "            '_index': 'myandex',\n",
    "            '_id': doc.doc_id,\n",
    "            '_source': {\n",
    "                'src_text': doc.html,\n",
    "                'snow_text': doc.html,\n",
    "                'lem_text': doc.lemmed_tokens,\n",
    "                'src_title': doc.title_tokens,\n",
    "                'snow_title': doc.title_tokens,\n",
    "                'lem_title': doc.title_lemmed_tokens,\n",
    "                'pagerank': page_rank.get(doc.doc_id),\n",
    "            }\n",
    "        }\n",
    "        \n",
    "for ok, result in parallel_bulk(es, es_actions_generator(), queue_size=4, thread_count=4, chunk_size=1000):\n",
    "    if not ok:\n",
    "        print(result)"
   ]
  },
  {
   "cell_type": "code",
   "execution_count": 16,
   "metadata": {},
   "outputs": [
    {
     "name": "stdout",
     "output_type": "stream",
     "text": [
      "Size of index: 4.502 GB\n"
     ]
    }
   ],
   "source": [
    "index_size = es.indices.stats('myandex')['_all']['primaries']['store']['size_in_bytes'] / 2 ** 30\n",
    "print(\"Size of index: {:.4} GB\".format(index_size))"
   ]
  },
  {
   "cell_type": "code",
   "execution_count": 17,
   "metadata": {},
   "outputs": [],
   "source": [
    "def search(query):\n",
    "    search_result = es.search(index='myandex', body=query, size=20)['hits']\n",
    "    return [(hit['_id'], hit['_score']) for hit in search_result['hits']]"
   ]
  },
  {
   "cell_type": "code",
   "execution_count": 18,
   "metadata": {},
   "outputs": [
    {
     "data": {
      "application/vnd.jupyter.widget-view+json": {
       "model_id": "b137e2d011e54935a2c90503e9dbd9de",
       "version_major": 2,
       "version_minor": 0
      },
      "text/plain": [
       "HBox(children=(IntProgress(value=0, max=547), HTML(value='')))"
      ]
     },
     "metadata": {},
     "output_type": "display_data"
    },
    {
     "name": "stdout",
     "output_type": "stream",
     "text": [
      "\n"
     ]
    },
    {
     "data": {
      "application/vnd.jupyter.widget-view+json": {
       "model_id": "4352a502a4e24e6180ca98e90d925561",
       "version_major": 2,
       "version_minor": 0
      },
      "text/plain": [
       "HBox(children=(IntProgress(value=0, max=29231), HTML(value='')))"
      ]
     },
     "metadata": {},
     "output_type": "display_data"
    },
    {
     "name": "stdout",
     "output_type": "stream",
     "text": [
      "\n"
     ]
    }
   ],
   "source": [
    "tasks = {}\n",
    "\n",
    "with open(RELEVANT_TABLE, 'rb') as file:\n",
    "    xmldict = xmltodict.parse(file.read())\n",
    "    for task in tqdm(xmldict['taskDocumentMatrix']['task']):\n",
    "        task_id = task['@id']\n",
    "        tasks[task_id] = {'pos': set(), 'neg': set()}\n",
    "        for doc in task['document']:\n",
    "            if doc['@relevance'] == 'vital':\n",
    "                tasks[task_id]['pos'].add(doc['@id'])\n",
    "            else:\n",
    "                tasks[task_id]['neg'].add(doc['@id'])\n",
    "            \n",
    "with open(QUERY_TABLE, 'rb') as f:\n",
    "    xmldict = xmltodict.parse(f.read())\n",
    "    for task in tqdm(xmldict['task-set']['task']):\n",
    "        task_id = task['@id']\n",
    "        if task_id in tasks:\n",
    "            tasks[task_id]['querytext'] = task['querytext']\n",
    "            \n",
    "for task_id in tasks:\n",
    "    tasks[task_id]['pos'] = [id for id in tasks[task_id]['pos'] if id in docs]\n",
    "    tasks[task_id]['neg'] = [id for id in tasks[task_id]['neg'] if id in docs]\n",
    "    \n",
    "tasks = {id: task for id, task in tasks.items() if len(task['pos']) > 0}"
   ]
  },
  {
   "cell_type": "code",
   "execution_count": 19,
   "metadata": {},
   "outputs": [
    {
     "data": {
      "application/vnd.jupyter.widget-view+json": {
       "model_id": "e9d02d11d4f84c189484b662865f9ed8",
       "version_major": 2,
       "version_minor": 0
      },
      "text/plain": [
       "HBox(children=(IntProgress(value=0, max=491), HTML(value='')))"
      ]
     },
     "metadata": {},
     "output_type": "display_data"
    },
    {
     "name": "stdout",
     "output_type": "stream",
     "text": [
      "\n",
      "1000 search requests took: 42.12\n"
     ]
    }
   ],
   "source": [
    "get_query = lambda q: {\n",
    "    'query': {\n",
    "        'bool': {\n",
    "            'should': {\n",
    "                'match': {\n",
    "                    'src_text': q\n",
    "                }\n",
    "            }\n",
    "        }\n",
    "    }\n",
    "}\n",
    "\n",
    "start_time = time.time()\n",
    "for _, task in tqdm(tasks.items()):\n",
    "    search(get_query(task['querytext']))\n",
    "end_time = time.time()\n",
    "spend_time = time.gmtime((end_time - start_time) / len(tasks) * 1000)\n",
    "print(\"1000 search requests took: {}\".format(time.strftime('%S.%l', spend_time)))"
   ]
  },
  {
   "cell_type": "code",
   "execution_count": 35,
   "metadata": {},
   "outputs": [],
   "source": [
    "def in_top_k(res, task, k):\n",
    "    return sum(int(id in task['pos']) for id, _ in res[:k])\n",
    "\n",
    "def evaluate(tasks, get_query, show=True):\n",
    "    metrics = {x: [] for x in ['pq', 'rq', 'prq', 'mapq']}\n",
    "    for _, task in tqdm(tasks.items()):\n",
    "        res = search(get_query(task['querytext']))\n",
    "        sk = in_top_k(res, task, 20)\n",
    "        metrics['pq'].append(sk / 20)\n",
    "        cnt_pos = len(task['pos'])\n",
    "        metrics['rq'].append(sk / min(cnt_pos, 20))\n",
    "        metrics['prq'].append(in_top_k(res, task, cnt_pos) / cnt_pos)\n",
    "        metrics['mapq'].append(sum(in_top_k(res, task, k) / k for k in range(1, 21)) / 20)\n",
    "        \n",
    "    for x in metrics:\n",
    "        metrics[x] = np.array(metrics[x])\n",
    "        \n",
    "    if show:\n",
    "        print(\"p@20: {:.4}\".format(metrics['pq'].mean()))\n",
    "        print(\"r@20: {:.4}\".format(metrics['rq'].mean()))\n",
    "        print(\"p@R: {:.4}\".format(metrics['prq'].mean()))\n",
    "        print(\"map@20: {:.4}\".format(metrics['mapq'].mean()))\n",
    "    \n",
    "    return metrics"
   ]
  },
  {
   "cell_type": "code",
   "execution_count": 21,
   "metadata": {},
   "outputs": [
    {
     "data": {
      "application/vnd.jupyter.widget-view+json": {
       "model_id": "818f37d03f754ea2ae1cc53b43f292c0",
       "version_major": 2,
       "version_minor": 0
      },
      "text/plain": [
       "HBox(children=(IntProgress(value=0, max=491), HTML(value='')))"
      ]
     },
     "metadata": {},
     "output_type": "display_data"
    },
    {
     "name": "stdout",
     "output_type": "stream",
     "text": [
      "\n",
      "p@20: 0.2746\n",
      "r@20: 0.3257\n",
      "p@R: 0.1666\n",
      "map@20: 0.3558\n"
     ]
    }
   ],
   "source": [
    "get_query = lambda q: {\n",
    "    'query': {\n",
    "        'bool': {\n",
    "            'should': {\n",
    "                'match': {\n",
    "                    'src_text': q\n",
    "                }\n",
    "            }\n",
    "        }\n",
    "    }\n",
    "}\n",
    "\n",
    "metrics = evaluate(tasks, get_query)"
   ]
  },
  {
   "cell_type": "code",
   "execution_count": 22,
   "metadata": {},
   "outputs": [
    {
     "data": {
      "application/vnd.jupyter.widget-view+json": {
       "model_id": "ce1a614945fc4c7fa325c72f89cc3fb9",
       "version_major": 2,
       "version_minor": 0
      },
      "text/plain": [
       "HBox(children=(IntProgress(value=0, max=491), HTML(value='')))"
      ]
     },
     "metadata": {},
     "output_type": "display_data"
    },
    {
     "name": "stdout",
     "output_type": "stream",
     "text": [
      "\n",
      "p@20: 0.3178\n",
      "r@20: 0.3859\n",
      "p@R: 0.1967\n",
      "map@20: 0.3915\n"
     ]
    }
   ],
   "source": [
    "get_query = lambda q: {\n",
    "    'query': {\n",
    "        'bool': {\n",
    "            'should': {\n",
    "                'match': {\n",
    "                    'snow_text': q\n",
    "                }\n",
    "            }\n",
    "        }\n",
    "    }\n",
    "}\n",
    "\n",
    "snow_metrics = evaluate(tasks, get_query)"
   ]
  },
  {
   "cell_type": "code",
   "execution_count": 23,
   "metadata": {},
   "outputs": [
    {
     "data": {
      "application/vnd.jupyter.widget-view+json": {
       "model_id": "db04e40891e241a5be5960026169c768",
       "version_major": 2,
       "version_minor": 0
      },
      "text/plain": [
       "HBox(children=(IntProgress(value=0, max=491), HTML(value='')))"
      ]
     },
     "metadata": {},
     "output_type": "display_data"
    },
    {
     "name": "stdout",
     "output_type": "stream",
     "text": [
      "\n",
      "p@20: 0.3269\n",
      "r@20: 0.3934\n",
      "p@R: 0.2011\n",
      "map@20: 0.4006\n"
     ]
    }
   ],
   "source": [
    "tokenizer = RegexpTokenizer(r'\\w+')\n",
    "analyzer = pymorphy2.MorphAnalyzer()\n",
    "\n",
    "def get_query(q): \n",
    "    q = tokenizer.tokenize(q)\n",
    "    q = list(map(lambda x: x.lower(), q))\n",
    "    q = list(map(lambda x: analyzer.parse(x)[0].normal_form, q))\n",
    "    q = ' '.join(q)\n",
    "    return {\n",
    "        'query': {\n",
    "            'bool': {\n",
    "                'should': {\n",
    "                    'match': {\n",
    "                        'lem_text': q\n",
    "                    }\n",
    "                }\n",
    "            }\n",
    "        }\n",
    "    }\n",
    "\n",
    "lem_metrics = evaluate(tasks, get_query)"
   ]
  },
  {
   "cell_type": "code",
   "execution_count": 41,
   "metadata": {},
   "outputs": [
    {
     "data": {
      "application/vnd.jupyter.widget-view+json": {
       "model_id": "d511f3b683fa4b40b79bca4b2b1dd277",
       "version_major": 2,
       "version_minor": 0
      },
      "text/plain": [
       "HBox(children=(IntProgress(value=0, max=491), HTML(value='')))"
      ]
     },
     "metadata": {},
     "output_type": "display_data"
    },
    {
     "data": {
      "application/vnd.jupyter.widget-view+json": {
       "model_id": "2810cc49cd3040309fca351ee5ddbae7",
       "version_major": 2,
       "version_minor": 0
      },
      "text/plain": [
       "HBox(children=(IntProgress(value=0, max=491), HTML(value='')))"
      ]
     },
     "metadata": {},
     "output_type": "display_data"
    },
    {
     "data": {
      "application/vnd.jupyter.widget-view+json": {
       "model_id": "d1520a5bddb7435ca6cc7f6812485b97",
       "version_major": 2,
       "version_minor": 0
      },
      "text/plain": [
       "HBox(children=(IntProgress(value=0, max=491), HTML(value='')))"
      ]
     },
     "metadata": {},
     "output_type": "display_data"
    },
    {
     "data": {
      "application/vnd.jupyter.widget-view+json": {
       "model_id": "ab0e6668f0644423a0a550ca1f80d99f",
       "version_major": 2,
       "version_minor": 0
      },
      "text/plain": [
       "HBox(children=(IntProgress(value=0, max=491), HTML(value='')))"
      ]
     },
     "metadata": {},
     "output_type": "display_data"
    },
    {
     "data": {
      "application/vnd.jupyter.widget-view+json": {
       "model_id": "14ae80aee57949878a84edb6558cd583",
       "version_major": 2,
       "version_minor": 0
      },
      "text/plain": [
       "HBox(children=(IntProgress(value=0, max=491), HTML(value='')))"
      ]
     },
     "metadata": {},
     "output_type": "display_data"
    },
    {
     "data": {
      "application/vnd.jupyter.widget-view+json": {
       "model_id": "4b5be663fc654fdda82fef9f536f8a46",
       "version_major": 2,
       "version_minor": 0
      },
      "text/plain": [
       "HBox(children=(IntProgress(value=0, max=491), HTML(value='')))"
      ]
     },
     "metadata": {},
     "output_type": "display_data"
    },
    {
     "data": {
      "application/vnd.jupyter.widget-view+json": {
       "model_id": "03bd626a09e9441886c270a6c84bad4d",
       "version_major": 2,
       "version_minor": 0
      },
      "text/plain": [
       "HBox(children=(IntProgress(value=0, max=491), HTML(value='')))"
      ]
     },
     "metadata": {},
     "output_type": "display_data"
    },
    {
     "data": {
      "application/vnd.jupyter.widget-view+json": {
       "model_id": "4744c80387874bf2a76e6dd0734262d1",
       "version_major": 2,
       "version_minor": 0
      },
      "text/plain": [
       "HBox(children=(IntProgress(value=0, max=491), HTML(value='')))"
      ]
     },
     "metadata": {},
     "output_type": "display_data"
    },
    {
     "data": {
      "application/vnd.jupyter.widget-view+json": {
       "model_id": "f5ce3d4d1ce34225a52c879d28456d01",
       "version_major": 2,
       "version_minor": 0
      },
      "text/plain": [
       "HBox(children=(IntProgress(value=0, max=491), HTML(value='')))"
      ]
     },
     "metadata": {},
     "output_type": "display_data"
    },
    {
     "data": {
      "image/png": "[encoded data removed]",
      "text/plain": [
       "<Figure size 432x288 with 1 Axes>"
      ]
     },
     "metadata": {
      "needs_background": "light"
     },
     "output_type": "display_data"
    }
   ],
   "source": [
    "tokenizer = RegexpTokenizer(r'\\w+')\n",
    "analyzer = pymorphy2.MorphAnalyzer()\n",
    "\n",
    "def get_query(q, boost):\n",
    "    q = tokenizer.tokenize(q)\n",
    "    q = list(map(lambda x: x.lower(), q))\n",
    "    q = list(map(lambda x: analyzer.parse(x)[0].normal_form, q))\n",
    "    q = ' '.join(q)\n",
    "    return {\n",
    "        'query': {\n",
    "            'bool': {\n",
    "                'should': [\n",
    "                    {\n",
    "                        \"match\": {\n",
    "                            \"lem_text\": q\n",
    "                        }\n",
    "                    },\n",
    "                    {\n",
    "                        \"match\": {\n",
    "                            \"lem_title\": {\n",
    "                                \"query\" : q,\n",
    "                                \"boost\": boost\n",
    "                            }\n",
    "                        }\n",
    "                    }\n",
    "                ]\n",
    "            }\n",
    "        }\n",
    "    }\n",
    "\n",
    "xs = np.arange(0.1, 1, 0.1).tolist()\n",
    "ys = [evaluate(tasks, lambda q: get_query(q, x), show=False)['mapq'].mean() for x in xs]\n",
    "\n",
    "plt.plot(xs, ys)\n",
    "plt.xlabel('boost for title')\n",
    "plt.ylabel('map@20')\n",
    "plt.show()"
   ]
  },
  {
   "cell_type": "code",
   "execution_count": 48,
   "metadata": {},
   "outputs": [
    {
     "data": {
      "application/vnd.jupyter.widget-view+json": {
       "model_id": "86176a088f4f44bc8be0d583da2f77fd",
       "version_major": 2,
       "version_minor": 0
      },
      "text/plain": [
       "HBox(children=(IntProgress(value=0, max=491), HTML(value='')))"
      ]
     },
     "metadata": {},
     "output_type": "display_data"
    },
    {
     "name": "stdout",
     "output_type": "stream",
     "text": [
      "p@20: 0.3373\n",
      "r@20: 0.4021\n",
      "p@R: 0.2023\n",
      "map@20: 0.4135\n"
     ]
    },
    {
     "data": {
      "image/png": "[encoded data removed]",
      "text/plain": [
       "<Figure size 432x288 with 1 Axes>"
      ]
     },
     "metadata": {
      "needs_background": "light"
     },
     "output_type": "display_data"
    }
   ],
   "source": [
    "lem_title_metrics = evaluate(tasks, lambda q: get_query(q, 0.2))\n",
    "\n",
    "plt.hist(lem_title_metrics['mapq'])\n",
    "plt.xlabel('map@20')\n",
    "plt.ylabel('count of docs')\n",
    "plt.show()"
   ]
  },
  {
   "cell_type": "code",
   "execution_count": 39,
   "metadata": {},
   "outputs": [
    {
     "data": {
      "application/vnd.jupyter.widget-view+json": {
       "model_id": "b722e3a68cb145429d239f0ed04c3c6d",
       "version_major": 2,
       "version_minor": 0
      },
      "text/plain": [
       "HBox(children=(IntProgress(value=0, max=491), HTML(value='')))"
      ]
     },
     "metadata": {},
     "output_type": "display_data"
    },
    {
     "data": {
      "application/vnd.jupyter.widget-view+json": {
       "model_id": "4f2f2e2122604a65a40ca6157d6768da",
       "version_major": 2,
       "version_minor": 0
      },
      "text/plain": [
       "HBox(children=(IntProgress(value=0, max=491), HTML(value='')))"
      ]
     },
     "metadata": {},
     "output_type": "display_data"
    },
    {
     "data": {
      "application/vnd.jupyter.widget-view+json": {
       "model_id": "d3d6d5d7a13b47deae13a99336d2aef1",
       "version_major": 2,
       "version_minor": 0
      },
      "text/plain": [
       "HBox(children=(IntProgress(value=0, max=491), HTML(value='')))"
      ]
     },
     "metadata": {},
     "output_type": "display_data"
    },
    {
     "data": {
      "application/vnd.jupyter.widget-view+json": {
       "model_id": "abda329cbf0445d98080c0907663d5b2",
       "version_major": 2,
       "version_minor": 0
      },
      "text/plain": [
       "HBox(children=(IntProgress(value=0, max=491), HTML(value='')))"
      ]
     },
     "metadata": {},
     "output_type": "display_data"
    },
    {
     "data": {
      "application/vnd.jupyter.widget-view+json": {
       "model_id": "274329445a4b4dc3b21b9e076440536e",
       "version_major": 2,
       "version_minor": 0
      },
      "text/plain": [
       "HBox(children=(IntProgress(value=0, max=491), HTML(value='')))"
      ]
     },
     "metadata": {},
     "output_type": "display_data"
    },
    {
     "data": {
      "application/vnd.jupyter.widget-view+json": {
       "model_id": "eafb798684de4ef3bcdd9feb845beeae",
       "version_major": 2,
       "version_minor": 0
      },
      "text/plain": [
       "HBox(children=(IntProgress(value=0, max=491), HTML(value='')))"
      ]
     },
     "metadata": {},
     "output_type": "display_data"
    },
    {
     "data": {
      "application/vnd.jupyter.widget-view+json": {
       "model_id": "603df89a9fbd43cd95c6c79e778f8eac",
       "version_major": 2,
       "version_minor": 0
      },
      "text/plain": [
       "HBox(children=(IntProgress(value=0, max=491), HTML(value='')))"
      ]
     },
     "metadata": {},
     "output_type": "display_data"
    },
    {
     "data": {
      "application/vnd.jupyter.widget-view+json": {
       "model_id": "c05d9d9e74f94048aed97487432b8989",
       "version_major": 2,
       "version_minor": 0
      },
      "text/plain": [
       "HBox(children=(IntProgress(value=0, max=491), HTML(value='')))"
      ]
     },
     "metadata": {},
     "output_type": "display_data"
    },
    {
     "data": {
      "application/vnd.jupyter.widget-view+json": {
       "model_id": "891ff5b169a84936aab6f10525971985",
       "version_major": 2,
       "version_minor": 0
      },
      "text/plain": [
       "HBox(children=(IntProgress(value=0, max=491), HTML(value='')))"
      ]
     },
     "metadata": {},
     "output_type": "display_data"
    },
    {
     "data": {
      "image/png": "[encoded data removed]",
      "text/plain": [
       "<Figure size 432x288 with 1 Axes>"
      ]
     },
     "metadata": {
      "needs_background": "light"
     },
     "output_type": "display_data"
    }
   ],
   "source": [
    "tokenizer = RegexpTokenizer(r'\\w+')\n",
    "analyzer = pymorphy2.MorphAnalyzer()\n",
    "\n",
    "def get_query(q, boost):\n",
    "    q = tokenizer.tokenize(q)\n",
    "    q = list(map(lambda x: x.lower(), q))\n",
    "    q = list(map(lambda x: analyzer.parse(x)[0].normal_form, q))\n",
    "    q = ' '.join(q)\n",
    "    return {\n",
    "        'query': {\n",
    "            'bool': {\n",
    "                'should': [\n",
    "                    {\n",
    "                        \"match\": {\n",
    "                            \"lem_text\": q\n",
    "                        }\n",
    "                    },\n",
    "                    {\n",
    "                        \"rank_feature\": {\n",
    "                            \"field\": \"pagerank\",\n",
    "                            \"boost\": boost\n",
    "                        }\n",
    "                    }\n",
    "                ]\n",
    "            }\n",
    "        }\n",
    "    }\n",
    "\n",
    "xs = np.arange(0.1, 1, 0.1).tolist()\n",
    "ys = [evaluate(tasks, lambda q: get_query(q, x), show=False)['mapq'].mean() for x in xs]\n",
    "\n",
    "plt.plot(xs, ys)\n",
    "plt.xlabel('boost for pagerank')\n",
    "plt.ylabel('map@20')\n",
    "plt.show()"
   ]
  },
  {
   "cell_type": "code",
   "execution_count": 40,
   "metadata": {},
   "outputs": [
    {
     "data": {
      "application/vnd.jupyter.widget-view+json": {
       "model_id": "bafbc9b21576496695e22c8f45ed7d2a",
       "version_major": 2,
       "version_minor": 0
      },
      "text/plain": [
       "HBox(children=(IntProgress(value=0, max=491), HTML(value='')))"
      ]
     },
     "metadata": {},
     "output_type": "display_data"
    },
    {
     "name": "stdout",
     "output_type": "stream",
     "text": [
      "p@20: 0.3281\n",
      "r@20: 0.3948\n",
      "p@R: 0.1998\n",
      "map@20: 0.4009\n"
     ]
    }
   ],
   "source": [
    "metrics_pagerank = evaluate(tasks, lambda q: get_query(q, 0.3))"
   ]
  },
  {
   "cell_type": "code",
   "execution_count": 26,
   "metadata": {},
   "outputs": [
    {
     "name": "stdout",
     "output_type": "stream",
     "text": [
      "query: УРАЛЬСКАЯ ПЛИТКА\n",
      "map@20 snow: 0.9423\n",
      "map@20 lem: 0.1799\n",
      "\n",
      "query: faq как настроить домен\n",
      "map@20 snow: 0.3425\n",
      "map@20 lem: 0.8552\n",
      "\n",
      "query: эллинистический образец иконописи\n",
      "map@20 snow: 0.3543\n",
      "map@20 lem: 0.7956\n",
      "\n"
     ]
    }
   ],
   "source": [
    "diff = np.abs(snow_metrics['mapq'] - lem_metrics['mapq'])\n",
    "nums = diff.argsort()[::-1][:3]\n",
    "\n",
    "tasks_list = [task for _, task in tasks.items()]\n",
    "\n",
    "for num in nums:\n",
    "    print(\"query: {}\".format(tasks_list[num]['querytext']))\n",
    "    print(\"map@20 snow: {:.4}\".format(snow_metrics['mapq'][num]))\n",
    "    print(\"map@20 lem: {:.4}\".format(lem_metrics['mapq'][num]))\n",
    "    print()"
   ]
  }
 ],
 "metadata": {
  "kernelspec": {
   "display_name": "Python 3",
   "language": "python",
   "name": "python3"
  },
  "language_info": {
   "codemirror_mode": {
    "name": "ipython",
    "version": 3
   },
   "file_extension": ".py",
   "mimetype": "text/x-python",
   "name": "python",
   "nbconvert_exporter": "python",
   "pygments_lexer": "ipython3",
   "version": "3.6.7"
  }
 },
 "nbformat": 4,
 "nbformat_minor": 2
}
