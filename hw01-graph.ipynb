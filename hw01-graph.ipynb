{
 "cells": [
  {
   "cell_type": "code",
   "execution_count": 2,
   "metadata": {},
   "outputs": [],
   "source": [
    "import pickle\n",
    "import csv"
   ]
  },
  {
   "cell_type": "code",
   "execution_count": 3,
   "metadata": {},
   "outputs": [],
   "source": [
    "from collections import defaultdict"
   ]
  },
  {
   "cell_type": "code",
   "execution_count": 4,
   "metadata": {},
   "outputs": [],
   "source": [
    "GRAPH_PICKLE_PATH = \"./graph.pickle\"\n",
    "GRAPH_CSV_PATH = \"./graph.csv\"\n",
    "GRAPH_BIG_INCOME_NODES_CSV_PATH = \"./graph_big_income_nodes.csv\"\n",
    "GRAPH_TOP_INCOME_NODES_CSV_PATH = \"./graph_top_income_nodes.csv\"\n",
    "GRAPH_TOP_OUTCOME_NODES_CSV_PATH = \"./graph_top_outcome_nodes.csv\"\n",
    "GRAPH_BIGGEST_COMPONENT_CSV_PATH = \"./graph_biggest_component.csv\""
   ]
  },
  {
   "cell_type": "code",
   "execution_count": 45,
   "metadata": {},
   "outputs": [],
   "source": [
    "def load_graph():\n",
    "    with open(GRAPH_PICKLE_PATH, 'rb') as graph_file:\n",
    "        graph = []\n",
    "        nodes = {}\n",
    "        \n",
    "        def get_node(link, index):\n",
    "            if link not in nodes:\n",
    "                nodes[link] = index\n",
    "                index += 1\n",
    "            return nodes[link], index\n",
    "        \n",
    "        index = 0\n",
    "        for link_from, links_to in pickle.load(graph_file).items():\n",
    "            for link_to in links_to:\n",
    "                node_from, index = get_node(link_from, index)\n",
    "                node_to, index = get_node(link_to, index)\n",
    "                graph.append((node_from, node_to))\n",
    "        return graph"
   ]
  },
  {
   "cell_type": "code",
   "execution_count": 6,
   "metadata": {},
   "outputs": [],
   "source": [
    "def build_graph_in_csv(output_path, graph):\n",
    "    with open(output_path, 'w') as csvfile:\n",
    "        graph_writer = csv.writer(csvfile, delimiter=';')\n",
    "        for link_from, link_to in graph:\n",
    "                graph_writer.writerow([link_from, link_to])"
   ]
  },
  {
   "cell_type": "code",
   "execution_count": 7,
   "metadata": {},
   "outputs": [],
   "source": [
    "def leave_only_big_income_degree_nodes(graph, income_degree_threshold=200):\n",
    "    result_graph = []\n",
    "    freqs = defaultdict(lambda: 0)\n",
    "    for link_from, link_to in graph:\n",
    "        freqs[link_to] += 1\n",
    "    for link_from, link_to in graph:\n",
    "        if (freqs[link_from] >= income_degree_threshold) and (freqs[link_to] >= income_degree_threshold):\n",
    "            result_graph.append((link_from, link_to))\n",
    "    return result_graph"
   ]
  },
  {
   "cell_type": "code",
   "execution_count": 8,
   "metadata": {},
   "outputs": [],
   "source": [
    "def leave_only_top_nodes_by_income_degree(graph, top_amount=200):\n",
    "    result_graph = []\n",
    "    freqs = defaultdict(lambda: 0)\n",
    "    for link_from, link_to in graph:\n",
    "        freqs[link_to] += 1\n",
    "\n",
    "    all_freqs = freqs.values()\n",
    "    threshold = sorted(all_freqs)[-top_amount]\n",
    "    for link_from, link_to in graph:\n",
    "        if (freqs[link_from] >= threshold) and (freqs[link_to] >= threshold):\n",
    "            result_graph.append((link_from, link_to))\n",
    "    return result_graph"
   ]
  },
  {
   "cell_type": "code",
   "execution_count": 9,
   "metadata": {},
   "outputs": [],
   "source": [
    "def leave_only_top_nodes_by_outcome_degree(graph, top_amount=200):\n",
    "    result_graph = []\n",
    "    freqs = defaultdict(lambda: 0)\n",
    "    for link_from, link_to in graph:\n",
    "        freqs[link_from] += 1\n",
    "\n",
    "    all_freqs = freqs.values()\n",
    "    threshold = sorted(all_freqs)[-top_amount]\n",
    "    for link_from, link_to in graph:\n",
    "        if (freqs[link_from] >= threshold) and (freqs[link_to] >= threshold):\n",
    "            result_graph.append((link_from, link_to))\n",
    "    return result_graph"
   ]
  },
  {
   "cell_type": "code",
   "execution_count": 10,
   "metadata": {},
   "outputs": [],
   "source": [
    "def dfs(current, edges, used, order):\n",
    "    used[current] = True\n",
    "    for next_node in edges[current]:\n",
    "        if not used[next_node]:\n",
    "            dfs(next_node, edges, used, order)\n",
    "    order.append(current)\n",
    "    \n",
    "def dfs_reversed(current, edges, used, components):\n",
    "    used[current] = True\n",
    "    components[-1].append(current)\n",
    "    for next_node in edges[current]:\n",
    "        if not used[next_node]:\n",
    "            dfs_reversed(next_node, edges, used, components)\n",
    "            \n",
    "\n",
    "def get_components_of_strong_connectivity(graph):\n",
    "    edges = defaultdict(lambda: [])\n",
    "    rev_edges = defaultdict(lambda: [])\n",
    "    for link_from, link_to in graph:\n",
    "        edges[link_from].append(link_to)\n",
    "        rev_edges[link_to].append(link_from)\n",
    "    used = defaultdict(lambda: False)\n",
    "    order = []\n",
    "    all_nodes = set(edges.keys())\n",
    "    for nodes in edges.values():\n",
    "        all_nodes.update(nodes)\n",
    "    for link_from in all_nodes:\n",
    "        if not used[link_from]:\n",
    "            dfs(link_from, edges, used, order)\n",
    "    used = defaultdict(lambda: False)\n",
    "    components = []\n",
    "    for link in reversed(order):\n",
    "        if not used[link]:\n",
    "            components.append([])\n",
    "            dfs_reversed(link, rev_edges, used, components)\n",
    "    return components"
   ]
  },
  {
   "cell_type": "code",
   "execution_count": 19,
   "metadata": {},
   "outputs": [],
   "source": [
    "def leave_only_biggest_strong_connectivity_component(graph):\n",
    "    components = get_components_of_strong_connectivity(graph)\n",
    "    max_size = max(map(len, components))\n",
    "    max_component = []\n",
    "    for component in components:\n",
    "        if len(component) == max_size:\n",
    "            max_component = set(component)\n",
    "            break\n",
    "    result_graph = []\n",
    "    for link_from, link_to in graph:\n",
    "        if link_from in max_component:  # link_to is in it too\n",
    "            result_graph.append((link_from, link_to))\n",
    "    return result_graph"
   ]
  },
  {
   "cell_type": "code",
   "execution_count": 36,
   "metadata": {},
   "outputs": [],
   "source": [
    "build_graph_in_csv(GRAPH_CSV_PATH, load_graph())"
   ]
  },
  {
   "cell_type": "code",
   "execution_count": 30,
   "metadata": {},
   "outputs": [],
   "source": [
    "build_graph_in_csv(GRAPH_BIG_INCOME_NODES_CSV_PATH, leave_only_big_income_degree_nodes(load_graph()))"
   ]
  },
  {
   "cell_type": "code",
   "execution_count": 43,
   "metadata": {},
   "outputs": [],
   "source": [
    "build_graph_in_csv(GRAPH_TOP_INCOME_NODES_CSV_PATH, leave_only_top_nodes_by_income_degree(load_graph()))"
   ]
  },
  {
   "cell_type": "code",
   "execution_count": 44,
   "metadata": {},
   "outputs": [],
   "source": [
    "build_graph_in_csv(GRAPH_TOP_OUTCOME_NODES_CSV_PATH, leave_only_top_nodes_by_outcome_degree(load_graph()))"
   ]
  },
  {
   "cell_type": "code",
   "execution_count": 38,
   "metadata": {},
   "outputs": [],
   "source": [
    "build_graph_in_csv(GRAPH_BIGGEST_COMPONENT_CSV_PATH, leave_only_biggest_strong_connectivity_component(load_graph()))"
   ]
  }
 ],
 "metadata": {
  "kernelspec": {
   "display_name": "Python 3",
   "language": "python",
   "name": "python3"
  },
  "language_info": {
   "codemirror_mode": {
    "name": "ipython",
    "version": 3
   },
   "file_extension": ".py",
   "mimetype": "text/x-python",
   "name": "python",
   "nbconvert_exporter": "python",
   "pygments_lexer": "ipython3",
   "version": "3.7.4"
  }
 },
 "nbformat": 4,
 "nbformat_minor": 2
}
