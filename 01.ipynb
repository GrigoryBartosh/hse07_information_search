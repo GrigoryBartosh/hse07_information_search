{
 "cells": [
  {
   "cell_type": "code",
   "execution_count": 1,
   "metadata": {},
   "outputs": [],
   "source": [
    "import os\n",
    "\n",
    "from lxml import etree\n",
    "import base64\n",
    "from bs4 import BeautifulSoup\n",
    "import re\n",
    "from nltk.tokenize import RegexpTokenizer\n",
    "from urllib.parse import urljoin\n",
    "import pymorphy2\n",
    "import string\n",
    "from collections import Counter\n",
    "\n",
    "import numpy as np\n",
    "\n",
    "from tqdm import tqdm_notebook as tqdm\n",
    "import matplotlib.pyplot as plt\n",
    "\n",
    "BYWEB_PATH = os.path.join('data', 'byweb_for_course')\n",
    "STOPWORDS_EN = os.path.join('data', 'stopwords', 'english')\n",
    "STOPWORDS_RU = os.path.join('data', 'stopwords', 'russian')"
   ]
  },
  {
   "cell_type": "code",
   "execution_count": 2,
   "metadata": {},
   "outputs": [],
   "source": [
    "class Document:\n",
    "    def __init__(self, raw):\n",
    "        self.raw = raw"
   ]
  },
  {
   "cell_type": "code",
   "execution_count": 3,
   "metadata": {},
   "outputs": [],
   "source": [
    "def pipeline(docs, foo_list):\n",
    "    for foo in foo_list:\n",
    "        def generator(docs, foo):\n",
    "            for doc in docs:\n",
    "                yield foo(doc)\n",
    "        docs = generator(docs, foo)\n",
    "    return docs\n",
    "\n",
    "def generate_raw_docs(db_path):\n",
    "    for file_name in tqdm(os.listdir(db_path)):\n",
    "        file_path = os.path.join(db_path, file_name)\n",
    "        root = etree.parse(file_path).getroot()\n",
    "        for raw in root.getchildren():\n",
    "            yield Document(raw)"
   ]
  },
  {
   "cell_type": "code",
   "execution_count": 4,
   "metadata": {},
   "outputs": [],
   "source": [
    "def decoded_doc(doc):\n",
    "    doc.html, doc.url, doc.doc_id = \\\n",
    "        list(map(lambda x: x.text, doc.raw))\n",
    "    doc.url = base64.urlsafe_b64decode(doc.url).decode('cp1251')\n",
    "    doc.html = base64.b64decode(doc.html).decode('cp1251')\n",
    "    return doc"
   ]
  },
  {
   "cell_type": "code",
   "execution_count": 5,
   "metadata": {},
   "outputs": [],
   "source": [
    "def build_text(doc):\n",
    "    soup = BeautifulSoup(doc.html, 'lxml')\n",
    "    for script in soup(['script', 'style']):\n",
    "        script.decompose()\n",
    "    doc.text = soup.get_text()\n",
    "    doc.text = re.sub('(<!--.*?-->)', '', doc.text, flags=re.DOTALL)\n",
    "    return doc"
   ]
  },
  {
   "cell_type": "code",
   "execution_count": 6,
   "metadata": {},
   "outputs": [],
   "source": [
    "def get_tokenize_foo():\n",
    "    tokenizer = RegexpTokenizer(r'\\w+')\n",
    "    def tokenize(doc):\n",
    "        doc.tokens = tokenizer.tokenize(doc.text)\n",
    "        return doc\n",
    "    return tokenize"
   ]
  },
  {
   "cell_type": "code",
   "execution_count": 7,
   "metadata": {},
   "outputs": [],
   "source": [
    "def get_lemmatization_foo():\n",
    "    analyzer = pymorphy2.MorphAnalyzer()\n",
    "    def lemmatization(doc):\n",
    "        doc.lemmed_tokens = list(map(lambda x: x.lower(), doc.tokens))\n",
    "        doc.lemmed_tokens = list(map(lambda x: analyzer.parse(x)[0].normal_form, doc.lemmed_tokens))\n",
    "        return doc\n",
    "    return lemmatization"
   ]
  },
  {
   "cell_type": "code",
   "execution_count": 8,
   "metadata": {},
   "outputs": [],
   "source": [
    "def find_links(doc):\n",
    "    soup = BeautifulSoup(doc.html)\n",
    "    for script in soup([\"script\", \"style\"]):\n",
    "        script.decompose()\n",
    "    \n",
    "    doc.links = set()\n",
    "    for link in soup.findAll('a'):\n",
    "        link_url = link.get('href')\n",
    "        if not link_url or link_url[0] == '#':\n",
    "            continue\n",
    "        try:\n",
    "            link_url = urljoin(url, link_url)\n",
    "            doc.links.add(link_url)\n",
    "        except Exception:\n",
    "            pass\n",
    "        \n",
    "    return doc"
   ]
  },
  {
   "cell_type": "code",
   "execution_count": null,
   "metadata": {},
   "outputs": [
    {
     "data": {
      "application/vnd.jupyter.widget-view+json": {
       "model_id": "b603353b4b264905b53a80e754d1bdc3",
       "version_major": 2,
       "version_minor": 0
      },
      "text/plain": [
       "HBox(children=(IntProgress(value=0, max=10), HTML(value='')))"
      ]
     },
     "metadata": {},
     "output_type": "display_data"
    }
   ],
   "source": [
    "docs = pipeline(generate_raw_docs(BYWEB_PATH),\n",
    "                [decoded_doc, build_text, get_tokenize_foo(), get_lemmatization_foo(), find_links])\n",
    "\n",
    "doc_count = 0\n",
    "content_byte_lens = []\n",
    "content_word_lens = []\n",
    "text_html_ratios = []\n",
    "collection_dict = Counter()\n",
    "count_for_idf = Counter()\n",
    "\n",
    "for doc in docs:\n",
    "    doc_count += 1\n",
    "    content_byte_lens.append(len(doc.text))\n",
    "    content_word_lens.append(len(doc.tokens))\n",
    "    text_html_ratios.append(len(doc.text) / len(doc.html))\n",
    "    \n",
    "    collection_dict.update(doc.lemmed_tokens)\n",
    "    \n",
    "    count_for_idf.update(list(set(doc.lemmed_tokens)))"
   ]
  },
  {
   "cell_type": "code",
   "execution_count": 20,
   "metadata": {},
   "outputs": [
    {
     "name": "stdout",
     "output_type": "stream",
     "text": [
      "Count of docs: 200000\n"
     ]
    }
   ],
   "source": [
    "print('Count of docs: {}'.format(doc_count))"
   ]
  },
  {
   "cell_type": "code",
   "execution_count": 31,
   "metadata": {},
   "outputs": [
    {
     "name": "stdout",
     "output_type": "stream",
     "text": [
      "Mean doc length in bytes: 6633.092785\n"
     ]
    },
    {
     "data": {
      "image/png": "[encoded data removed]",
      "text/plain": [
       "<Figure size 432x288 with 1 Axes>"
      ]
     },
     "metadata": {
      "needs_background": "light"
     },
     "output_type": "display_data"
    }
   ],
   "source": [
    "print('Mean doc length in bytes: {}'.format(np.array(content_byte_lens).mean()))\n",
    "\n",
    "plt.hist(content_byte_lens, bins=100)\n",
    "plt.yscale('log')\n",
    "plt.xlabel('doc length in bytes')\n",
    "plt.ylabel('count of docs')\n",
    "plt.title('Distribution of doc length in bytes')\n",
    "plt.show()"
   ]
  },
  {
   "cell_type": "code",
   "execution_count": 22,
   "metadata": {},
   "outputs": [
    {
     "name": "stdout",
     "output_type": "stream",
     "text": [
      "Mean doc length in words: 857.065965\n"
     ]
    },
    {
     "data": {
      "image/png": "[encoded data removed]",
      "text/plain": [
       "<Figure size 432x288 with 1 Axes>"
      ]
     },
     "metadata": {
      "needs_background": "light"
     },
     "output_type": "display_data"
    }
   ],
   "source": [
    "print('Mean doc length in words: {}'.format(np.array(content_word_lens).mean()))\n",
    "\n",
    "plt.hist(content_word_lens, bins=100)\n",
    "plt.yscale('log')\n",
    "plt.xlabel('doc length in words')\n",
    "plt.ylabel('count of docs')\n",
    "plt.title('Distribution of doc length in words')\n",
    "plt.show()"
   ]
  },
  {
   "cell_type": "code",
   "execution_count": 23,
   "metadata": {},
   "outputs": [
    {
     "data": {
      "image/png": "[encoded data removed]",
      "text/plain": [
       "<Figure size 432x288 with 1 Axes>"
      ]
     },
     "metadata": {
      "needs_background": "light"
     },
     "output_type": "display_data"
    }
   ],
   "source": [
    "plt.hist(text_html_ratios, bins=100)\n",
    "plt.xlabel('doc ratio length taxt / length html')\n",
    "plt.ylabel('count of docs')\n",
    "plt.title('Distribution of doc ratio length taxt / length html')\n",
    "plt.show()"
   ]
  },
  {
   "cell_type": "code",
   "execution_count": 24,
   "metadata": {},
   "outputs": [
    {
     "name": "stdout",
     "output_type": "stream",
     "text": [
      "277 words of 171413193 words in all collection are stop-words\n",
      "That is 0.0001616%\n"
     ]
    }
   ],
   "source": [
    "stopwords = set([line.rstrip('\\n') for file_path in [STOPWORDS_EN, STOPWORDS_RU]\n",
    "                                   for line in open(file_path)])\n",
    "\n",
    "collection_word_cnt = sum(collection_dict[w] for w in collection_dict)\n",
    "collection_stopword_cnt = sum(w in stopwords for w in collection_dict)\n",
    "\n",
    "print('{} words of {} words in all collection are stop-words'.format(\n",
    "    collection_stopword_cnt, collection_word_cnt))\n",
    "print('That is {:.4}%'.format(100 * collection_stopword_cnt / collection_word_cnt))"
   ]
  },
  {
   "cell_type": "code",
   "execution_count": 25,
   "metadata": {},
   "outputs": [
    {
     "name": "stdout",
     "output_type": "stream",
     "text": [
      "506497 words of 171413193 words in all collection are latin-words\n",
      "That is 0.2955%\n"
     ]
    }
   ],
   "source": [
    "alphabet = set(list(string.ascii_lowercase))\n",
    "def is_latin(word):\n",
    "    return len(list(filter(lambda c: c not in alphabet, word))) == 0\n",
    "\n",
    "collection_latinword_cnt = sum(int(is_latin(w)) for w in collection_dict)\n",
    "\n",
    "print('{} words of {} words in all collection are latin-words'.format(\n",
    "    collection_latinword_cnt, collection_word_cnt))\n",
    "print('That is {:.4}%'.format(100 * collection_latinword_cnt / collection_word_cnt))"
   ]
  },
  {
   "cell_type": "code",
   "execution_count": 26,
   "metadata": {},
   "outputs": [
    {
     "name": "stdout",
     "output_type": "stream",
     "text": [
      "Mean length of word in all collection is: 5.507521600160613\n",
      "Mean length of word in dictionary is: 10.049101036348178\n"
     ]
    }
   ],
   "source": [
    "collection_word_sum_len = sum(len(w) * collection_dict[w] for w in collection_dict)\n",
    "dict_word_sum_len = sum(len(w) for w in collection_dict)\n",
    "\n",
    "print('Mean length of word in all collection is: {}'.format(collection_word_sum_len / collection_word_cnt))\n",
    "print('Mean length of word in dictionary is: {}'.format(dict_word_sum_len / len(collection_dict)))"
   ]
  },
  {
   "cell_type": "code",
   "execution_count": 27,
   "metadata": {},
   "outputs": [
    {
     "name": "stdout",
     "output_type": "stream",
     "text": [
      "Most common words in collection are:\n",
      "Word \"и\" occurs 3550904 times\n",
      "Word \"в\" occurs 3520978 times\n",
      "Word \"на\" occurs 1827282 times\n",
      "Word \"с\" occurs 1536126 times\n",
      "Word \"не\" occurs 1226303 times\n",
      "Word \"http\" occurs 1088145 times\n",
      "Word \"url\" occurs 954288 times\n",
      "Word \"1\" occurs 948838 times\n",
      "Word \"по\" occurs 902937 times\n",
      "Word \"для\" occurs 884575 times\n",
      "Word \"год\" occurs 880251 times\n",
      "Word \"2007\" occurs 772256 times\n",
      "Word \"что\" occurs 745608 times\n",
      "Word \"2\" occurs 745423 times\n",
      "Word \"весь\" occurs 693437 times\n",
      "Word \"а\" occurs 683243 times\n",
      "Word \"я\" occurs 634318 times\n",
      "Word \"быть\" occurs 626557 times\n",
      "Word \"о\" occurs 614339 times\n",
      "Word \"a\" occurs 610234 times\n"
     ]
    }
   ],
   "source": [
    "print('Most common words in collection are:')\n",
    "for word, cnt in collection_dict.most_common(20):\n",
    "    print('Word \"{}\" occurs {} times'.format(word, cnt))"
   ]
  },
  {
   "cell_type": "code",
   "execution_count": 28,
   "metadata": {},
   "outputs": [
    {
     "name": "stdout",
     "output_type": "stream",
     "text": [
      "Words with largest idf are:\n",
      "Word \"в\" has idf=0.1278\n",
      "Word \"и\" has idf=0.1613\n",
      "Word \"на\" has idf=0.2075\n",
      "Word \"с\" has idf=0.2877\n",
      "Word \"by\" has idf=0.3239\n",
      "Word \"по\" has idf=0.3569\n",
      "Word \"для\" has idf=0.358\n",
      "Word \"о\" has idf=0.3659\n",
      "Word \"весь\" has idf=0.391\n",
      "Word \"1\" has idf=0.4073\n",
      "Word \"2\" has idf=0.4587\n",
      "Word \"год\" has idf=0.5258\n",
      "Word \"не\" has idf=0.572\n",
      "Word \"3\" has idf=0.5738\n",
      "Word \"сайт\" has idf=0.5789\n",
      "Word \"2007\" has idf=0.5974\n",
      "Word \"главный\" has idf=0.6515\n",
      "Word \"к\" has idf=0.6624\n",
      "Word \"от\" has idf=0.672\n",
      "Word \"5\" has idf=0.6782\n"
     ]
    }
   ],
   "source": [
    "idf = {word: np.log(doc_count / count_for_idf[word]) for word in count_for_idf}\n",
    "\n",
    "print('Words with largest idf are:')\n",
    "for word in sorted(idf, key=idf.get)[:20]:\n",
    "    print('Word \"{}\" has idf={:.4}'.format(word, idf[word]))"
   ]
  },
  {
   "cell_type": "code",
   "execution_count": 29,
   "metadata": {},
   "outputs": [
    {
     "data": {
      "image/png": "[encoded data removed]",
      "text/plain": [
       "<Figure size 432x288 with 1 Axes>"
      ]
     },
     "metadata": {
      "needs_background": "light"
     },
     "output_type": "display_data"
    }
   ],
   "source": [
    "xs = [cnt for _, cnt in collection_dict.most_common()]\n",
    "ys = list(range(len(collection_dict)))\n",
    "\n",
    "plt.plot(xs, ys)\n",
    "plt.xscale('log')\n",
    "plt.yscale('log')\n",
    "plt.xlabel('number of occurrences of a word')\n",
    "plt.ylabel('word rang')\n",
    "plt.title('Distribution of doc ratio length taxt / length html')\n",
    "plt.show()"
   ]
  }
 ],
 "metadata": {
  "kernelspec": {
   "display_name": "Python 3",
   "language": "python",
   "name": "python3"
  },
  "language_info": {
   "codemirror_mode": {
    "name": "ipython",
    "version": 3
   },
   "file_extension": ".py",
   "mimetype": "text/x-python",
   "name": "python",
   "nbconvert_exporter": "python",
   "pygments_lexer": "ipython3",
   "version": "3.6.7"
  }
 },
 "nbformat": 4,
 "nbformat_minor": 2
}
