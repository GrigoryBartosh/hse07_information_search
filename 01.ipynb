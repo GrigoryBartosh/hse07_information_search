{
 "cells": [
  {
   "cell_type": "code",
   "execution_count": 1,
   "metadata": {},
   "outputs": [],
   "source": [
    "import os\n",
    "\n",
    "from lxml import etree\n",
    "import base64\n",
    "from bs4 import BeautifulSoup\n",
    "import re\n",
    "from nltk.tokenize import RegexpTokenizer\n",
    "from urllib.parse import urljoin\n",
    "import pymorphy2\n",
    "import string\n",
    "from collections import Counter\n",
    "\n",
    "import numpy as np\n",
    "\n",
    "from tqdm import tqdm_notebook as tqdm\n",
    "import matplotlib.pyplot as plt\n",
    "\n",
    "BYWEB_PATH = os.path.join('data', 'byweb_for_course')\n",
    "STOPWORDS_EN = os.path.join('data', 'stopwords', 'english')\n",
    "STOPWORDS_RU = os.path.join('data', 'stopwords', 'russian')"
   ]
  },
  {
   "cell_type": "code",
   "execution_count": 2,
   "metadata": {},
   "outputs": [],
   "source": [
    "class Document:\n",
    "    def __init__(self, raw):\n",
    "        self.raw = raw"
   ]
  },
  {
   "cell_type": "code",
   "execution_count": 3,
   "metadata": {},
   "outputs": [],
   "source": [
    "def pipeline(docs, foo_list):\n",
    "    for foo in foo_list:\n",
    "        def generator(docs, foo):\n",
    "            for doc in docs:\n",
    "                yield foo(doc)\n",
    "        docs = generator(docs, foo)\n",
    "    return docs\n",
    "\n",
    "def generate_raw_docs(db_path):\n",
    "    for file_name in tqdm(os.listdir(db_path)[:1]):\n",
    "        file_path = os.path.join(db_path, file_name)\n",
    "        root = etree.parse(file_path).getroot()\n",
    "        for raw in root.getchildren():\n",
    "            yield Document(raw)\n",
    "            break"
   ]
  },
  {
   "cell_type": "code",
   "execution_count": 4,
   "metadata": {},
   "outputs": [],
   "source": [
    "def decoded_doc(doc):\n",
    "    doc.html, doc.url, doc.doc_id = \\\n",
    "        list(map(lambda x: x.text, doc.raw))\n",
    "    doc.url = base64.urlsafe_b64decode(doc.url).decode('cp1251')\n",
    "    doc.html = base64.b64decode(doc.html).decode('cp1251')\n",
    "    return doc"
   ]
  },
  {
   "cell_type": "code",
   "execution_count": 5,
   "metadata": {},
   "outputs": [],
   "source": [
    "def build_text(doc):\n",
    "    soup = BeautifulSoup(doc.html, 'lxml')\n",
    "    for script in soup(['script', 'style']):\n",
    "        script.decompose()\n",
    "    doc.text = soup.get_text()\n",
    "    doc.text = re.sub('(<!--.*?-->)', '', doc.text, flags=re.DOTALL)\n",
    "    return doc"
   ]
  },
  {
   "cell_type": "code",
   "execution_count": 6,
   "metadata": {},
   "outputs": [],
   "source": [
    "def get_tokenize_foo():\n",
    "    tokenizer = RegexpTokenizer(r'\\w+')\n",
    "    def tokenize(doc):\n",
    "        doc.tokens = tokenizer.tokenize(doc.text)\n",
    "        return doc\n",
    "    return tokenize"
   ]
  },
  {
   "cell_type": "code",
   "execution_count": 7,
   "metadata": {},
   "outputs": [],
   "source": [
    "def get_lemmatization_foo():\n",
    "    analyzer = pymorphy2.MorphAnalyzer()\n",
    "    def lemmatization(doc):\n",
    "        doc.lemmed_tokens = list(map(lambda x: x.lower(), doc.tokens))\n",
    "        doc.lemmed_tokens = list(map(lambda x: analyzer.parse(x)[0].normal_form, doc.lemmed_tokens))\n",
    "        return doc\n",
    "    return lemmatization"
   ]
  },
  {
   "cell_type": "code",
   "execution_count": 8,
   "metadata": {},
   "outputs": [],
   "source": [
    "def find_links(doc):\n",
    "    soup = BeautifulSoup(doc.html)\n",
    "    for script in soup([\"script\", \"style\"]):\n",
    "        script.decompose()\n",
    "    \n",
    "    doc.links = set()\n",
    "    for link in soup.findAll('a'):\n",
    "        link_url = link.get('href')\n",
    "        if not link_url or link_url[0] == '#':\n",
    "            continue\n",
    "        try:\n",
    "            link_url = urljoin(url, link_url)\n",
    "            doc.links.add(link_url)\n",
    "        except Exception:\n",
    "            pass\n",
    "        \n",
    "    return doc"
   ]
  },
  {
   "cell_type": "code",
   "execution_count": 9,
   "metadata": {},
   "outputs": [
    {
     "data": {
      "application/vnd.jupyter.widget-view+json": {
       "model_id": "cd03844c27504350919075aba8c574c9",
       "version_major": 2,
       "version_minor": 0
      },
      "text/plain": [
       "HBox(children=(IntProgress(value=0, max=1), HTML(value='')))"
      ]
     },
     "metadata": {},
     "output_type": "display_data"
    },
    {
     "name": "stdout",
     "output_type": "stream",
     "text": [
      "\n"
     ]
    }
   ],
   "source": [
    "docs = pipeline(generate_raw_docs(BYWEB_PATH),\n",
    "                [decoded_doc, build_text, get_tokenize_foo(), get_lemmatization_foo(), find_links])\n",
    "\n",
    "doc_count = 0\n",
    "content_byte_lens = []\n",
    "content_word_lens = []\n",
    "text_html_ratios = []\n",
    "\n",
    "collection_dict = Counter()\n",
    "\n",
    "for doc in docs:\n",
    "    doc_count += 1\n",
    "    content_byte_lens.append(len(doc.text))\n",
    "    content_word_lens.append(len(doc.tokens))\n",
    "    text_html_ratios.append(len(doc.text) / len(doc.html))\n",
    "    \n",
    "    collection_dict.update(doc.lemmed_tokens)"
   ]
  },
  {
   "cell_type": "code",
   "execution_count": 10,
   "metadata": {},
   "outputs": [
    {
     "name": "stdout",
     "output_type": "stream",
     "text": [
      "Count of docs: 1\n"
     ]
    }
   ],
   "source": [
    "print('Count of docs: {}'.format(doc_count))"
   ]
  },
  {
   "cell_type": "code",
   "execution_count": 11,
   "metadata": {},
   "outputs": [
    {
     "name": "stdout",
     "output_type": "stream",
     "text": [
      "Mean doc length in bytes: 1324.0\n"
     ]
    },
    {
     "data": {
      "image/png": "[encoded data removed]",
      "text/plain": [
       "<Figure size 432x288 with 1 Axes>"
      ]
     },
     "metadata": {
      "needs_background": "light"
     },
     "output_type": "display_data"
    }
   ],
   "source": [
    "print('Mean doc length in bytes: {}'.format(np.array(content_byte_lens).mean()))\n",
    "\n",
    "plt.hist(content_byte_lens)\n",
    "plt.xlabel('doc length in bytes')\n",
    "plt.ylabel('count of docs')\n",
    "plt.title('Distribution of doc length in bytes')\n",
    "plt.show()"
   ]
  },
  {
   "cell_type": "code",
   "execution_count": 12,
   "metadata": {},
   "outputs": [
    {
     "name": "stdout",
     "output_type": "stream",
     "text": [
      "Mean doc length in words: 119.0\n"
     ]
    },
    {
     "data": {
      "image/png": "[encoded data removed]",
      "text/plain": [
       "<Figure size 432x288 with 1 Axes>"
      ]
     },
     "metadata": {
      "needs_background": "light"
     },
     "output_type": "display_data"
    }
   ],
   "source": [
    "print('Mean doc length in words: {}'.format(np.array(content_word_lens).mean()))\n",
    "\n",
    "plt.hist(content_word_lens)\n",
    "plt.xlabel('doc length in words')\n",
    "plt.ylabel('count of docs')\n",
    "plt.title('Distribution of doc length in words')\n",
    "plt.show()"
   ]
  },
  {
   "cell_type": "code",
   "execution_count": 13,
   "metadata": {},
   "outputs": [
    {
     "data": {
      "image/png": "[encoded data removed]",
      "text/plain": [
       "<Figure size 432x288 with 1 Axes>"
      ]
     },
     "metadata": {
      "needs_background": "light"
     },
     "output_type": "display_data"
    }
   ],
   "source": [
    "plt.hist(text_html_ratios)\n",
    "plt.xlabel('doc ratio length taxt / length html')\n",
    "plt.ylabel('count of docs')\n",
    "plt.title('Distribution of doc ratio length taxt / length html')\n",
    "plt.show()"
   ]
  },
  {
   "cell_type": "code",
   "execution_count": 14,
   "metadata": {},
   "outputs": [
    {
     "name": "stdout",
     "output_type": "stream",
     "text": [
      "5 words of 119 words in all collection are stop-words\n",
      "That is 4.202%\n"
     ]
    }
   ],
   "source": [
    "stopwords = set([line.rstrip('\\n') for file_path in [STOPWORDS_EN, STOPWORDS_RU]\n",
    "                                   for line in open(file_path)])\n",
    "\n",
    "collection_word_cnt = sum(collection_dict[w] for w in collection_dict)\n",
    "collection_stopword_cnt = sum(w in stopwords for w in collection_dict)\n",
    "\n",
    "print('{} words of {} words in all collection are stop-words'.format(\n",
    "    collection_stopword_cnt, collection_word_cnt))\n",
    "print('That is {:.4}%'.format(100 * collection_stopword_cnt / collection_word_cnt))"
   ]
  },
  {
   "cell_type": "code",
   "execution_count": 15,
   "metadata": {},
   "outputs": [
    {
     "name": "stdout",
     "output_type": "stream",
     "text": [
      "36 words of 119 words in all collection are latin-words\n",
      "That is 30.25%\n"
     ]
    }
   ],
   "source": [
    "alphabet = set(list(string.ascii_lowercase))\n",
    "def is_latin(word):\n",
    "    return len(list(filter(lambda c: c not in alphabet, word))) == 0\n",
    "\n",
    "collection_latinword_cnt = sum(int(is_latin(w)) for w in collection_dict)\n",
    "\n",
    "print('{} words of {} words in all collection are latin-words'.format(\n",
    "    collection_latinword_cnt, collection_word_cnt))\n",
    "print('That is {:.4}%'.format(100 * collection_latinword_cnt / collection_word_cnt))"
   ]
  },
  {
   "cell_type": "code",
   "execution_count": 16,
   "metadata": {},
   "outputs": [
    {
     "name": "stdout",
     "output_type": "stream",
     "text": [
      "Mean length of word in all collection is: 4.630252100840337\n",
      "Mean length of word in dictionary is: 5.271186440677966\n"
     ]
    }
   ],
   "source": [
    "collection_word_sum_len = sum(len(w) * collection_dict[w] for w in collection_dict)\n",
    "dict_word_sum_len = sum(len(w) for w in collection_dict)\n",
    "\n",
    "print('Mean length of word in all collection is: {}'.format(collection_word_sum_len / collection_word_cnt))\n",
    "print('Mean length of word in dictionary is: {}'.format(dict_word_sum_len / len(collection_dict)))"
   ]
  }
 ],
 "metadata": {
  "kernelspec": {
   "display_name": "Python 3",
   "language": "python",
   "name": "python3"
  },
  "language_info": {
   "codemirror_mode": {
    "name": "ipython",
    "version": 3
   },
   "file_extension": ".py",
   "mimetype": "text/x-python",
   "name": "python",
   "nbconvert_exporter": "python",
   "pygments_lexer": "ipython3",
   "version": "3.6.7"
  }
 },
 "nbformat": 4,
 "nbformat_minor": 2
}
