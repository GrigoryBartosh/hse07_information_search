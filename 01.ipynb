{
 "cells": [
  {
   "cell_type": "code",
   "execution_count": 1,
   "metadata": {},
   "outputs": [],
   "source": [
    "import os\n",
    "\n",
    "from lxml import etree\n",
    "import base64\n",
    "from bs4 import BeautifulSoup\n",
    "import re\n",
    "from nltk.tokenize import RegexpTokenizer\n",
    "from urllib.parse import urljoin\n",
    "import pymorphy2\n",
    "import string\n",
    "from collections import Counter\n",
    "\n",
    "import numpy as np\n",
    "\n",
    "from tqdm import tqdm_notebook as tqdm\n",
    "import matplotlib.pyplot as plt\n",
    "\n",
    "BYWEB_PATH = os.path.join('data', 'byweb_for_course')\n",
    "STOPWORDS_EN = os.path.join('data', 'stopwords', 'english')\n",
    "STOPWORDS_RU = os.path.join('data', 'stopwords', 'russian')"
   ]
  },
  {
   "cell_type": "code",
   "execution_count": 2,
   "metadata": {},
   "outputs": [],
   "source": [
    "class Document:\n",
    "    def __init__(self, raw):\n",
    "        self.raw = raw"
   ]
  },
  {
   "cell_type": "code",
   "execution_count": 3,
   "metadata": {},
   "outputs": [],
   "source": [
    "def pipeline(docs, foo_list):\n",
    "    for foo in foo_list:\n",
    "        def generator(docs, foo):\n",
    "            for doc in docs:\n",
    "                yield foo(doc)\n",
    "        docs = generator(docs, foo)\n",
    "    return docs\n",
    "\n",
    "def generate_raw_docs(db_path):\n",
    "    for file_name in tqdm(os.listdir(db_path)):\n",
    "        file_path = os.path.join(db_path, file_name)\n",
    "        root = etree.parse(file_path).getroot()\n",
    "        for raw in root.getchildren():\n",
    "            yield Document(raw)"
   ]
  },
  {
   "cell_type": "code",
   "execution_count": 4,
   "metadata": {},
   "outputs": [],
   "source": [
    "def decoded_doc(doc):\n",
    "    doc.html, doc.url, doc.doc_id = \\\n",
    "        list(map(lambda x: x.text, doc.raw))\n",
    "    doc.url = base64.urlsafe_b64decode(doc.url).decode('cp1251')\n",
    "    doc.html = base64.b64decode(doc.html).decode('cp1251')\n",
    "    return doc"
   ]
  },
  {
   "cell_type": "code",
   "execution_count": 5,
   "metadata": {},
   "outputs": [],
   "source": [
    "def build_text(doc):\n",
    "    soup = BeautifulSoup(doc.html, 'lxml')\n",
    "    for script in soup(['script', 'style']):\n",
    "        script.decompose()\n",
    "    doc.text = soup.get_text()\n",
    "    doc.text = re.sub('(<!--.*?-->)', '', doc.text, flags=re.DOTALL)\n",
    "    return doc"
   ]
  },
  {
   "cell_type": "code",
   "execution_count": 6,
   "metadata": {},
   "outputs": [],
   "source": [
    "def get_tokenize_foo():\n",
    "    tokenizer = RegexpTokenizer(r'\\w+')\n",
    "    def tokenize(doc):\n",
    "        doc.tokens = tokenizer.tokenize(doc.text)\n",
    "        return doc\n",
    "    return tokenize"
   ]
  },
  {
   "cell_type": "code",
   "execution_count": 7,
   "metadata": {},
   "outputs": [],
   "source": [
    "def get_lemmatization_foo():\n",
    "    analyzer = pymorphy2.MorphAnalyzer()\n",
    "    def lemmatization(doc):\n",
    "        doc.lemmed_tokens = list(map(lambda x: x.lower(), doc.tokens))\n",
    "        doc.lemmed_tokens = list(map(lambda x: analyzer.parse(x)[0].normal_form, doc.lemmed_tokens))\n",
    "        return doc\n",
    "    return lemmatization"
   ]
  },
  {
   "cell_type": "code",
   "execution_count": 8,
   "metadata": {},
   "outputs": [],
   "source": [
    "def find_links(doc):\n",
    "    soup = BeautifulSoup(doc.html)\n",
    "    for script in soup([\"script\", \"style\"]):\n",
    "        script.decompose()\n",
    "    \n",
    "    doc.links = set()\n",
    "    for link in soup.findAll('a'):\n",
    "        link_url = link.get('href')\n",
    "        if not link_url or link_url[0] == '#':\n",
    "            continue\n",
    "        try:\n",
    "            link_url = urljoin(url, link_url)\n",
    "            doc.links.add(link_url)\n",
    "        except Exception:\n",
    "            pass\n",
    "        \n",
    "    return doc"
   ]
  },
  {
   "cell_type": "code",
   "execution_count": null,
   "metadata": {},
   "outputs": [
    {
     "data": {
      "application/vnd.jupyter.widget-view+json": {
       "model_id": "b603353b4b264905b53a80e754d1bdc3",
       "version_major": 2,
       "version_minor": 0
      },
      "text/plain": [
       "HBox(children=(IntProgress(value=0, max=10), HTML(value='')))"
      ]
     },
     "metadata": {},
     "output_type": "display_data"
    }
   ],
   "source": [
    "docs = pipeline(generate_raw_docs(BYWEB_PATH),\n",
    "                [decoded_doc, build_text, get_tokenize_foo(), get_lemmatization_foo(), find_links])\n",
    "\n",
    "doc_count = 0\n",
    "content_byte_lens = []\n",
    "content_word_lens = []\n",
    "text_html_ratios = []\n",
    "collection_dict = Counter()\n",
    "count_for_idf = Counter()\n",
    "\n",
    "for doc in docs:\n",
    "    doc_count += 1\n",
    "    content_byte_lens.append(len(doc.text))\n",
    "    content_word_lens.append(len(doc.tokens))\n",
    "    text_html_ratios.append(len(doc.text) / len(doc.html))\n",
    "    \n",
    "    collection_dict.update(doc.lemmed_tokens)\n",
    "    \n",
    "    count_for_idf.update(list(set(doc.lemmed_tokens)))"
   ]
  },
  {
   "cell_type": "code",
   "execution_count": 20,
   "metadata": {},
   "outputs": [
    {
     "name": "stdout",
     "output_type": "stream",
     "text": [
      "Count of docs: 200000\n"
     ]
    }
   ],
   "source": [
    "print('Count of docs: {}'.format(doc_count))"
   ]
  },
  {
   "cell_type": "code",
   "execution_count": 31,
   "metadata": {},
   "outputs": [
    {
     "name": "stdout",
     "output_type": "stream",
     "text": [
      "Mean doc length in bytes: 6633.092785\n"
     ]
    },
    {
     "data": {
      "image/png": "[encoded data removed]",
      "text/plain": [
       "<Figure size 432x288 with 1 Axes>"
      ]
     },
     "metadata": {
      "needs_background": "light"
     },
     "output_type": "display_data"
    }
   ],
   "source": [
    "print('Mean doc length in bytes: {}'.format(np.array(content_byte_lens).mean()))\n",
    "\n",
    "plt.hist(content_byte_lens, bins=100)\n",
    "plt.yscale('log')\n",
    "plt.xlabel('doc length in bytes')\n",
    "plt.ylabel('count of docs')\n",
    "plt.title('Distribution of doc length in bytes')\n",
    "plt.show()"
   ]
  },
  {
   "cell_type": "code",
   "execution_count": 26,
   "metadata": {},
   "outputs": [
    {
     "name": "stdout",
     "output_type": "stream",
     "text": [
      "Mean doc length in bytes: 6670.3141\n"
     ]
    },
    {
     "data": {
      "image/png": "[encoded data removed]",
      "text/plain": [
       "<Figure size 432x288 with 1 Axes>"
      ]
     },
     "metadata": {
      "needs_background": "light"
     },
     "output_type": "display_data"
    }
   ],
   "source": [
    "print('Mean doc length in bytes: {}'.format(np.array(content_byte_lens).mean()))\n",
    "\n",
    "plt.hist(content_byte_lens, bins=100, range=(0, 10000))\n",
    "plt.xlabel('doc length in bytes')\n",
    "plt.ylabel('count of docs')\n",
    "plt.title('Distribution of doc length in bytes')\n",
    "plt.show()"
   ]
  },
  {
   "cell_type": "code",
   "execution_count": 22,
   "metadata": {},
   "outputs": [
    {
     "name": "stdout",
     "output_type": "stream",
     "text": [
      "Mean doc length in words: 857.065965\n"
     ]
    },
    {
     "data": {
      "image/png": "[encoded data removed]",
      "text/plain": [
       "<Figure size 432x288 with 1 Axes>"
      ]
     },
     "metadata": {
      "needs_background": "light"
     },
     "output_type": "display_data"
    }
   ],
   "source": [
    "print('Mean doc length in words: {}'.format(np.array(content_word_lens).mean()))\n",
    "\n",
    "plt.hist(content_word_lens, bins=100)\n",
    "plt.yscale('log')\n",
    "plt.xlabel('doc length in words')\n",
    "plt.ylabel('count of docs')\n",
    "plt.title('Distribution of doc length in words')\n",
    "plt.show()"
   ]
  },
  {
   "cell_type": "code",
   "execution_count": 29,
   "metadata": {},
   "outputs": [
    {
     "name": "stdout",
     "output_type": "stream",
     "text": [
      "Mean doc length in words: 863.7846\n"
     ]
    },
    {
     "data": {
      "image/png": "[encoded data removed]",
      "text/plain": [
       "<Figure size 432x288 with 1 Axes>"
      ]
     },
     "metadata": {
      "needs_background": "light"
     },
     "output_type": "display_data"
    }
   ],
   "source": [
    "print('Mean doc length in words: {}'.format(np.array(content_word_lens).mean()))\n",
    "\n",
    "plt.hist(content_word_lens, bins=100, range=(0, 1000))\n",
    "plt.xlabel('doc length in words')\n",
    "plt.ylabel('count of docs')\n",
    "plt.title('Distribution of doc length in words')\n",
    "plt.show()"
   ]
  },
  {
   "cell_type": "code",
   "execution_count": 23,
   "metadata": {},
   "outputs": [
    {
     "data": {
      "image/png": "[encoded data removed]",
      "text/plain": [
       "<Figure size 432x288 with 1 Axes>"
      ]
     },
     "metadata": {
      "needs_background": "light"
     },
     "output_type": "display_data"
    }
   ],
   "source": [
    "plt.hist(text_html_ratios, bins=100)\n",
    "plt.xlabel('doc ratio length taxt / length html')\n",
    "plt.ylabel('count of docs')\n",
    "plt.title('Distribution of doc ratio length taxt / length html')\n",
    "plt.show()"
   ]
  },
  {
   "cell_type": "code",
   "execution_count": 31,
   "metadata": {},
   "outputs": [
    {
     "name": "stdout",
     "output_type": "stream",
     "text": [
      "3055767 words of 17275692 words in all collection are stop-words\n",
      "That is 17.69%\n"
     ]
    }
   ],
   "source": [
    "stopwords = set([line.rstrip('\\n') for file_path in [STOPWORDS_EN, STOPWORDS_RU]\n",
    "                                   for line in open(file_path)])\n",
    "\n",
    "collection_word_cnt = sum(collection_dict[w] for w in collection_dict)\n",
    "collection_stopword_cnt = sum(collection_dict[w] * int(w in stopwords) for w in collection_dict)\n",
    "\n",
    "print('{} words of {} words in all collection are stop-words'.format(\n",
    "    collection_stopword_cnt, collection_word_cnt))\n",
    "print('That is {:.4}%'.format(100 * collection_stopword_cnt / collection_word_cnt))"
   ]
  },
  {
   "cell_type": "code",
   "execution_count": 32,
   "metadata": {},
   "outputs": [
    {
     "name": "stdout",
     "output_type": "stream",
     "text": [
      "2943003 words of 17275692 words in all collection are latin-words\n",
      "That is 17.04%\n"
     ]
    }
   ],
   "source": [
    "alphabet = set(list(string.ascii_lowercase))\n",
    "def is_latin(word):\n",
    "    return len(list(filter(lambda c: c not in alphabet, word))) == 0\n",
    "\n",
    "collection_latinword_cnt = sum(collection_dict[w] * int(is_latin(w)) for w in collection_dict)\n",
    "\n",
    "print('{} words of {} words in all collection are latin-words'.format(\n",
    "    collection_latinword_cnt, collection_word_cnt))\n",
    "print('That is {:.4}%'.format(100 * collection_latinword_cnt / collection_word_cnt))"
   ]
  },
  {
   "cell_type": "code",
   "execution_count": 26,
   "metadata": {},
   "outputs": [
    {
     "name": "stdout",
     "output_type": "stream",
     "text": [
      "Mean length of word in all collection is: 5.507521600160613\n",
      "Mean length of word in dictionary is: 10.049101036348178\n"
     ]
    }
   ],
   "source": [
    "collection_word_sum_len = sum(len(w) * collection_dict[w] for w in collection_dict)\n",
    "dict_word_sum_len = sum(len(w) for w in collection_dict)\n",
    "\n",
    "print('Mean length of word in all collection is: {}'.format(collection_word_sum_len / collection_word_cnt))\n",
    "print('Mean length of word in dictionary is: {}'.format(dict_word_sum_len / len(collection_dict)))"
   ]
  },
  {
   "cell_type": "code",
   "execution_count": 27,
   "metadata": {},
   "outputs": [
    {
     "name": "stdout",
     "output_type": "stream",
     "text": [
      "Most common words in collection are:\n",
      "Word \"и\" occurs 3550904 times\n",
      "Word \"в\" occurs 3520978 times\n",
      "Word \"на\" occurs 1827282 times\n",
      "Word \"с\" occurs 1536126 times\n",
      "Word \"не\" occurs 1226303 times\n",
      "Word \"http\" occurs 1088145 times\n",
      "Word \"url\" occurs 954288 times\n",
      "Word \"1\" occurs 948838 times\n",
      "Word \"по\" occurs 902937 times\n",
      "Word \"для\" occurs 884575 times\n",
      "Word \"год\" occurs 880251 times\n",
      "Word \"2007\" occurs 772256 times\n",
      "Word \"что\" occurs 745608 times\n",
      "Word \"2\" occurs 745423 times\n",
      "Word \"весь\" occurs 693437 times\n",
      "Word \"а\" occurs 683243 times\n",
      "Word \"я\" occurs 634318 times\n",
      "Word \"быть\" occurs 626557 times\n",
      "Word \"о\" occurs 614339 times\n",
      "Word \"a\" occurs 610234 times\n"
     ]
    }
   ],
   "source": [
    "print('Most common words in collection are:')\n",
    "for word, cnt in collection_dict.most_common(20):\n",
    "    print('Word \"{}\" occurs {} times'.format(word, cnt))"
   ]
  },
  {
   "cell_type": "code",
   "execution_count": 40,
   "metadata": {},
   "outputs": [
    {
     "name": "stdout",
     "output_type": "stream",
     "text": [
      "Most common words in collection without stop-words are:\n",
      "Word \"url\" occurs 150457 times\n",
      "Word \"http\" occurs 133556 times\n",
      "Word \"год\" occurs 92587 times\n",
      "Word \"www\" occurs 70606 times\n",
      "Word \"весь\" occurs 68636 times\n",
      "Word \"это\" occurs 54836 times\n",
      "Word \"р\" occurs 53387 times\n",
      "Word \"org\" occurs 50602 times\n",
      "Word \"сообщение\" occurs 35696 times\n",
      "Word \"com\" occurs 34175 times\n",
      "Word \"e\" occurs 31997 times\n",
      "Word \"беларусь\" occurs 31508 times\n",
      "Word \"который\" occurs 31464 times\n",
      "Word \"мочь\" occurs 31040 times\n",
      "Word \"работа\" occurs 30042 times\n",
      "Word \"свой\" occurs 28275 times\n",
      "Word \"новость\" occurs 27629 times\n",
      "Word \"форум\" occurs 27316 times\n",
      "Word \"html\" occurs 26295 times\n",
      "Word \"buy\" occurs 26066 times\n"
     ]
    }
   ],
   "source": [
    "top_words_by_cnt = filter(lambda x: x[0] not in stopwords, collection_dict.most_common())\n",
    "top_words_by_cnt = filter(lambda x: not x[0].isdigit(), top_words_by_cnt)\n",
    "top_words_by_cnt = list(top_words_by_cnt)[:20]\n",
    "\n",
    "print('Most common words in collection without stop-words are:')\n",
    "for word, cnt in top_words_by_cnt:\n",
    "    print('Word \"{}\" occurs {} times'.format(word, cnt))"
   ]
  },
  {
   "cell_type": "code",
   "execution_count": 41,
   "metadata": {},
   "outputs": [
    {
     "name": "stdout",
     "output_type": "stream",
     "text": [
      "Words with largest idf are:\n",
      "Word \"весь\" has idf=0.4205\n",
      "Word \"год\" has idf=0.5497\n",
      "Word \"сайт\" has idf=0.5821\n",
      "Word \"главный\" has idf=0.7091\n",
      "Word \"новость\" has idf=0.7531\n",
      "Word \"поиск\" has idf=0.8098\n",
      "Word \"форум\" has idf=0.85\n",
      "Word \"минск\" has idf=0.8745\n",
      "Word \"работа\" has idf=0.9054\n",
      "Word \"наш\" has idf=0.9114\n",
      "Word \"беларусь\" has idf=0.9168\n",
      "Word \"это\" has idf=0.9188\n",
      "Word \"свой\" has idf=0.9889\n",
      "Word \"регистрация\" has idf=1.035\n",
      "Word \"мочь\" has idf=1.085\n",
      "Word \"информация\" has idf=1.121\n",
      "Word \"ваш\" has idf=1.129\n",
      "Word \"каталог\" has idf=1.147\n",
      "Word \"который\" has idf=1.159\n",
      "Word \"страница\" has idf=1.174\n"
     ]
    }
   ],
   "source": [
    "idf = {word: np.log(doc_count / count_for_idf[word]) for word in count_for_idf}\n",
    "\n",
    "top_words_by_idf = filter(lambda x: x not in stopwords, sorted(idf, key=idf.get))\n",
    "top_words_by_idf = filter(lambda x: not x.isdigit(), top_words_by_idf)\n",
    "top_words_by_idf = list(top_words_by_idf)[:20]\n",
    "\n",
    "print('Words with largest idf are:')\n",
    "for word in top_words_by_idf:\n",
    "    print('Word \"{}\" has idf={:.4}'.format(word, idf[word]))"
   ]
  },
  {
   "cell_type": "code",
   "execution_count": 33,
   "metadata": {},
   "outputs": [
    {
     "data": {
      "image/png": "[encoded data removed]",
      "text/plain": [
       "<Figure size 432x288 with 1 Axes>"
      ]
     },
     "metadata": {
      "needs_background": "light"
     },
     "output_type": "display_data"
    }
   ],
   "source": [
    "xs = [cnt for _, cnt in collection_dict.most_common()]\n",
    "ys = list(range(len(collection_dict)))\n",
    "\n",
    "plt.plot(xs, ys)\n",
    "plt.xscale('log')\n",
    "plt.yscale('log')\n",
    "plt.xlabel('number of occurrences of a word')\n",
    "plt.ylabel('word rang')\n",
    "plt.title('Word rang by number of occurrences of a word')\n",
    "plt.show()"
   ]
  }
 ],
 "metadata": {
  "kernelspec": {
   "display_name": "Python 3",
   "language": "python",
   "name": "python3"
  },
  "language_info": {
   "codemirror_mode": {
    "name": "ipython",
    "version": 3
   },
   "file_extension": ".py",
   "mimetype": "text/x-python",
   "name": "python",
   "nbconvert_exporter": "python",
   "pygments_lexer": "ipython3",
   "version": "3.6.7"
  }
 },
 "nbformat": 4,
 "nbformat_minor": 2
}
